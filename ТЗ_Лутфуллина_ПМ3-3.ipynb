{
 "cells": [
  {
   "cell_type": "markdown",
   "metadata": {},
   "source": [
    "<center><H1><b> Творческое задание Лутфуллиной Альбины</b></H1>\n",
    "\n"
   ]
  },
  {
   "cell_type": "markdown",
   "metadata": {},
   "source": [
    "## Выбор набора данных\n",
    "### Информация о данных \n",
    "Код - индивидуальный ключ каждого товара\n",
    "\n",
    "Группа товаров - категория на сайте в которой хранится соответствующий товар\n",
    "\n",
    "Товар - наименование товара, включающее в себя тип и бренд\n",
    "\n",
    "Старая цена - цена до изменений\n",
    "\n",
    "Новая цена  - цена указанная на сайте\n",
    "\n",
    "Город - место продажи указанного товара\n",
    "\n",
    "### Цель -  исследовать какие факторы влияют на новую цену товара \n"
   ]
  },
  {
   "cell_type": "markdown",
   "metadata": {},
   "source": [
    "#  Загрузка и подготовительная обработка данных"
   ]
  },
  {
   "cell_type": "markdown",
   "metadata": {},
   "source": [
    "Для начала импортируем необходимые библотеки для обработки данных"
   ]
  },
  {
   "cell_type": "code",
   "execution_count": 1,
   "metadata": {
    "pycharm": {
     "is_executing": false
    }
   },
   "outputs": [],
   "source": [
    "#загрузка необходимых библиотек\n",
    "import requests\n",
    "from bs4 import BeautifulSoup\n",
    "import csv\n",
    "import pandas as pd\n",
    "import numpy as np\n",
    "import matplotlib.pyplot as plt\n",
    "import seaborn as sns\n",
    "import matplotlib\n",
    "from sklearn import preprocessing\n",
    "from sklearn.cluster import KMeans\n",
    "from scipy.cluster.hierarchy import dendrogram, linkage, fcluster\n",
    "import chardet\n",
    "matplotlib.style.use('ggplot')\n",
    "%matplotlib inline \n",
    "pd.set_option('display.float_format', lambda x: '%.1f' % x)"
   ]
  },
  {
   "cell_type": "markdown",
   "metadata": {},
   "source": [
    "Так как колонка группа товаров содержит в себе значимую информацию, то можно извлечь из нее категорию, к которой относится продоваемый объект"
   ]
  },
  {
   "cell_type": "code",
   "execution_count": 2,
   "metadata": {},
   "outputs": [
    {
     "data": {
      "text/html": [
       "<div>\n",
       "<style scoped>\n",
       "    .dataframe tbody tr th:only-of-type {\n",
       "        vertical-align: middle;\n",
       "    }\n",
       "\n",
       "    .dataframe tbody tr th {\n",
       "        vertical-align: top;\n",
       "    }\n",
       "\n",
       "    .dataframe thead th {\n",
       "        text-align: right;\n",
       "    }\n",
       "</style>\n",
       "<table border=\"1\" class=\"dataframe\">\n",
       "  <thead>\n",
       "    <tr style=\"text-align: right;\">\n",
       "      <th></th>\n",
       "      <th>Группа товаров</th>\n",
       "      <th>Код</th>\n",
       "      <th>Товар</th>\n",
       "      <th>Новая цена</th>\n",
       "      <th>Старая цена</th>\n",
       "      <th>Город</th>\n",
       "      <th>Категория</th>\n",
       "    </tr>\n",
       "  </thead>\n",
       "  <tbody>\n",
       "    <tr>\n",
       "      <th>0</th>\n",
       "      <td>Детская одежда/Спортивные костюмы - для мальчиков</td>\n",
       "      <td>291601</td>\n",
       "      <td>Maru-maru Штанишки 115171001</td>\n",
       "      <td>648</td>\n",
       "      <td>1115</td>\n",
       "      <td>Санкт-Петербург</td>\n",
       "      <td>Детская одежда</td>\n",
       "    </tr>\n",
       "    <tr>\n",
       "      <th>1</th>\n",
       "      <td>Детские игрушки и игры/Lego</td>\n",
       "      <td>291640</td>\n",
       "      <td>Конструктор Lego Налобный фонарик Star Wars Po...</td>\n",
       "      <td>708</td>\n",
       "      <td>999</td>\n",
       "      <td>Санкт-Петербург</td>\n",
       "      <td>Детские игрушки и игры</td>\n",
       "    </tr>\n",
       "    <tr>\n",
       "      <th>2</th>\n",
       "      <td>Детская одежда/Боди, песочники, комбинезоны - ...</td>\n",
       "      <td>291652</td>\n",
       "      <td>Папитто Песочник для мальчика Fashion Jeans 5...</td>\n",
       "      <td>540</td>\n",
       "      <td>780</td>\n",
       "      <td>Санкт-Петербург</td>\n",
       "      <td>Детская одежда</td>\n",
       "    </tr>\n",
       "    <tr>\n",
       "      <th>3</th>\n",
       "      <td>Детская одежда/Боди, песочники, комбинезоны - ...</td>\n",
       "      <td>291655</td>\n",
       "      <td>Папитто Песочник для мальчика Fashion Jeans 5...</td>\n",
       "      <td>669</td>\n",
       "      <td>740</td>\n",
       "      <td>Санкт-Петербург</td>\n",
       "      <td>Детская одежда</td>\n",
       "    </tr>\n",
       "    <tr>\n",
       "      <th>4</th>\n",
       "      <td>Детская одежда/Боди, песочники, комбинезоны - ...</td>\n",
       "      <td>291655</td>\n",
       "      <td>Папитто Песочник для мальчика Fashion Jeans 5...</td>\n",
       "      <td>499</td>\n",
       "      <td>730</td>\n",
       "      <td>Москва</td>\n",
       "      <td>Детская одежда</td>\n",
       "    </tr>\n",
       "    <tr>\n",
       "      <th>...</th>\n",
       "      <td>...</td>\n",
       "      <td>...</td>\n",
       "      <td>...</td>\n",
       "      <td>...</td>\n",
       "      <td>...</td>\n",
       "      <td>...</td>\n",
       "      <td>...</td>\n",
       "    </tr>\n",
       "    <tr>\n",
       "      <th>35944</th>\n",
       "      <td>Развитие и школа/Школьные рюкзаки</td>\n",
       "      <td>779837</td>\n",
       "      <td>Набор  MadPax Рюкзак Blok Half Heavy metal Out...</td>\n",
       "      <td>8202</td>\n",
       "      <td>8695</td>\n",
       "      <td>Москва</td>\n",
       "      <td>Развитие и школа</td>\n",
       "    </tr>\n",
       "    <tr>\n",
       "      <th>35945</th>\n",
       "      <td>Развитие и школа/Школьные рюкзаки</td>\n",
       "      <td>779847</td>\n",
       "      <td>Набор  MadPax Рюкзак Blok Half Heavy metal Out...</td>\n",
       "      <td>8258</td>\n",
       "      <td>8570</td>\n",
       "      <td>Москва</td>\n",
       "      <td>Развитие и школа</td>\n",
       "    </tr>\n",
       "    <tr>\n",
       "      <th>35946</th>\n",
       "      <td>Развитие и школа/Школьные рюкзаки</td>\n",
       "      <td>779852</td>\n",
       "      <td>Набор  MadPax Рюкзак Blok Half Heavy metal Out...</td>\n",
       "      <td>8340</td>\n",
       "      <td>8874</td>\n",
       "      <td>Москва</td>\n",
       "      <td>Развитие и школа</td>\n",
       "    </tr>\n",
       "    <tr>\n",
       "      <th>35947</th>\n",
       "      <td>Развитие и школа/Школьные рюкзаки</td>\n",
       "      <td>779861</td>\n",
       "      <td>Набор  MadPax Рюкзак Bubble Half Monsters Unde...</td>\n",
       "      <td>9902</td>\n",
       "      <td>10530</td>\n",
       "      <td>Москва</td>\n",
       "      <td>Развитие и школа</td>\n",
       "    </tr>\n",
       "    <tr>\n",
       "      <th>35948</th>\n",
       "      <td>Развитие и школа/Школьные рюкзаки</td>\n",
       "      <td>779870</td>\n",
       "      <td>Набор  MadPax Рюкзак Bubble Half Monsters Unde...</td>\n",
       "      <td>10040</td>\n",
       "      <td>10674</td>\n",
       "      <td>Москва</td>\n",
       "      <td>Развитие и школа</td>\n",
       "    </tr>\n",
       "  </tbody>\n",
       "</table>\n",
       "<p>35949 rows × 7 columns</p>\n",
       "</div>"
      ],
      "text/plain": [
       "                                          Группа товаров     Код  \\\n",
       "0      Детская одежда/Спортивные костюмы - для мальчиков  291601   \n",
       "1                            Детские игрушки и игры/Lego  291640   \n",
       "2      Детская одежда/Боди, песочники, комбинезоны - ...  291652   \n",
       "3      Детская одежда/Боди, песочники, комбинезоны - ...  291655   \n",
       "4      Детская одежда/Боди, песочники, комбинезоны - ...  291655   \n",
       "...                                                  ...     ...   \n",
       "35944                  Развитие и школа/Школьные рюкзаки  779837   \n",
       "35945                  Развитие и школа/Школьные рюкзаки  779847   \n",
       "35946                  Развитие и школа/Школьные рюкзаки  779852   \n",
       "35947                  Развитие и школа/Школьные рюкзаки  779861   \n",
       "35948                  Развитие и школа/Школьные рюкзаки  779870   \n",
       "\n",
       "                                                   Товар  Новая цена  \\\n",
       "0                           Maru-maru Штанишки 115171001         648   \n",
       "1      Конструктор Lego Налобный фонарик Star Wars Po...         708   \n",
       "2       Папитто Песочник для мальчика Fashion Jeans 5...         540   \n",
       "3       Папитто Песочник для мальчика Fashion Jeans 5...         669   \n",
       "4       Папитто Песочник для мальчика Fashion Jeans 5...         499   \n",
       "...                                                  ...         ...   \n",
       "35944  Набор  MadPax Рюкзак Blok Half Heavy metal Out...        8202   \n",
       "35945  Набор  MadPax Рюкзак Blok Half Heavy metal Out...        8258   \n",
       "35946  Набор  MadPax Рюкзак Blok Half Heavy metal Out...        8340   \n",
       "35947  Набор  MadPax Рюкзак Bubble Half Monsters Unde...        9902   \n",
       "35948  Набор  MadPax Рюкзак Bubble Half Monsters Unde...       10040   \n",
       "\n",
       "       Старая цена            Город               Категория  \n",
       "0             1115  Санкт-Петербург          Детская одежда  \n",
       "1              999  Санкт-Петербург  Детские игрушки и игры  \n",
       "2              780  Санкт-Петербург          Детская одежда  \n",
       "3              740  Санкт-Петербург          Детская одежда  \n",
       "4              730           Москва          Детская одежда  \n",
       "...            ...              ...                     ...  \n",
       "35944         8695           Москва        Развитие и школа  \n",
       "35945         8570           Москва        Развитие и школа  \n",
       "35946         8874           Москва        Развитие и школа  \n",
       "35947        10530           Москва        Развитие и школа  \n",
       "35948        10674           Москва        Развитие и школа  \n",
       "\n",
       "[35949 rows x 7 columns]"
      ]
     },
     "execution_count": 2,
     "metadata": {},
     "output_type": "execute_result"
    }
   ],
   "source": [
    "with open(r'list_aku.csv', 'rb') as f:\n",
    "    result = chardet.detect(f.read())  # or readline if the file is large\n",
    "data = pd.read_csv(r'list_aku.csv',encoding=result['encoding'],header = None, error_bad_lines=False,sep =';',names =('Группа товаров','Код', 'Товар' ,'Новая цена','Старая цена','Город'))\n",
    "# Разделим столбец \"группа товаров\" на несколько столбцов\n",
    "dat=data['Группа товаров'].str.split('/',expand=True)\n",
    "dat.columns=['Категория', 'Подкатегория'] \n",
    "# Объединим получнные данные в одну таблицу\n",
    "d=pd.concat([data,dat['Категория']],axis=1)\n",
    "d"
   ]
  },
  {
   "cell_type": "markdown",
   "metadata": {},
   "source": [
    "##  Описание, анализ и визуализация данных:"
   ]
  },
  {
   "cell_type": "markdown",
   "metadata": {},
   "source": [
    "Таким образом, в рассмотрении имеются следующие поля:\n",
    "- категория\n",
    "- код\n",
    "- товар\n",
    "- цена\n",
    "- старая цена\n",
    "- город\n",
    "\n",
    "\n",
    "Преобразуем поля город и категория из категориальных в числовые, чтобы их можно было также учитывать. \n",
    "\n",
    "От полей код и товар стоит отказаться ввиду их незначимости.\n",
    "А поле группа товаров содержит в себе поле категория, следовательно удалим его."
   ]
  },
  {
   "cell_type": "code",
   "execution_count": 3,
   "metadata": {},
   "outputs": [
    {
     "name": "stdout",
     "output_type": "stream",
     "text": [
      "<class 'pandas.core.frame.DataFrame'>\n",
      "RangeIndex: 35949 entries, 0 to 35948\n",
      "Data columns (total 7 columns):\n",
      " #   Column          Non-Null Count  Dtype \n",
      "---  ------          --------------  ----- \n",
      " 0   Группа товаров  35949 non-null  object\n",
      " 1   Код             35949 non-null  int64 \n",
      " 2   Товар           35949 non-null  object\n",
      " 3   Новая цена      35949 non-null  int64 \n",
      " 4   Старая цена     35949 non-null  int64 \n",
      " 5   Город           35949 non-null  object\n",
      " 6   Категория       35949 non-null  object\n",
      "dtypes: int64(3), object(4)\n",
      "memory usage: 1.9+ MB\n"
     ]
    }
   ],
   "source": [
    "d.info()"
   ]
  },
  {
   "cell_type": "code",
   "execution_count": 4,
   "metadata": {},
   "outputs": [
    {
     "data": {
      "text/plain": [
       "Группа товаров    0\n",
       "Код               0\n",
       "Товар             0\n",
       "Новая цена        0\n",
       "Старая цена       0\n",
       "Город             0\n",
       "Категория         0\n",
       "dtype: int64"
      ]
     },
     "execution_count": 4,
     "metadata": {},
     "output_type": "execute_result"
    }
   ],
   "source": [
    "d.isna().sum()#пропусков не имеется ни в одном из столбцов"
   ]
  },
  {
   "cell_type": "markdown",
   "metadata": {},
   "source": [
    "пропусков не имеется ни в одном из столбцов"
   ]
  },
  {
   "cell_type": "markdown",
   "metadata": {},
   "source": [
    "## Группировка данных в итоговую таблицу"
   ]
  },
  {
   "cell_type": "code",
   "execution_count": 5,
   "metadata": {},
   "outputs": [],
   "source": [
    "d = d.drop(['Код','Товар','Группа товаров'],axis = 1) #избавляемся от полей код, товар и группа товаров"
   ]
  },
  {
   "cell_type": "code",
   "execution_count": 6,
   "metadata": {},
   "outputs": [
    {
     "data": {
      "text/html": [
       "<div>\n",
       "<style scoped>\n",
       "    .dataframe tbody tr th:only-of-type {\n",
       "        vertical-align: middle;\n",
       "    }\n",
       "\n",
       "    .dataframe tbody tr th {\n",
       "        vertical-align: top;\n",
       "    }\n",
       "\n",
       "    .dataframe thead th {\n",
       "        text-align: right;\n",
       "    }\n",
       "</style>\n",
       "<table border=\"1\" class=\"dataframe\">\n",
       "  <thead>\n",
       "    <tr style=\"text-align: right;\">\n",
       "      <th></th>\n",
       "      <th>Новая цена</th>\n",
       "      <th>Старая цена</th>\n",
       "      <th>Город</th>\n",
       "      <th>Категория</th>\n",
       "    </tr>\n",
       "  </thead>\n",
       "  <tbody>\n",
       "    <tr>\n",
       "      <th>0</th>\n",
       "      <td>648</td>\n",
       "      <td>1115</td>\n",
       "      <td>Санкт-Петербург</td>\n",
       "      <td>Детская одежда</td>\n",
       "    </tr>\n",
       "    <tr>\n",
       "      <th>1</th>\n",
       "      <td>708</td>\n",
       "      <td>999</td>\n",
       "      <td>Санкт-Петербург</td>\n",
       "      <td>Детские игрушки и игры</td>\n",
       "    </tr>\n",
       "    <tr>\n",
       "      <th>2</th>\n",
       "      <td>540</td>\n",
       "      <td>780</td>\n",
       "      <td>Санкт-Петербург</td>\n",
       "      <td>Детская одежда</td>\n",
       "    </tr>\n",
       "    <tr>\n",
       "      <th>3</th>\n",
       "      <td>669</td>\n",
       "      <td>740</td>\n",
       "      <td>Санкт-Петербург</td>\n",
       "      <td>Детская одежда</td>\n",
       "    </tr>\n",
       "    <tr>\n",
       "      <th>4</th>\n",
       "      <td>499</td>\n",
       "      <td>730</td>\n",
       "      <td>Москва</td>\n",
       "      <td>Детская одежда</td>\n",
       "    </tr>\n",
       "  </tbody>\n",
       "</table>\n",
       "</div>"
      ],
      "text/plain": [
       "   Новая цена  Старая цена            Город               Категория\n",
       "0         648         1115  Санкт-Петербург          Детская одежда\n",
       "1         708          999  Санкт-Петербург  Детские игрушки и игры\n",
       "2         540          780  Санкт-Петербург          Детская одежда\n",
       "3         669          740  Санкт-Петербург          Детская одежда\n",
       "4         499          730           Москва          Детская одежда"
      ]
     },
     "execution_count": 6,
     "metadata": {},
     "output_type": "execute_result"
    }
   ],
   "source": [
    "d.head()"
   ]
  },
  {
   "cell_type": "code",
   "execution_count": 7,
   "metadata": {},
   "outputs": [
    {
     "data": {
      "text/plain": [
       "20"
      ]
     },
     "execution_count": 7,
     "metadata": {},
     "output_type": "execute_result"
    }
   ],
   "source": [
    "d['Категория'].value_counts()\n",
    "d['Категория'].nunique()"
   ]
  },
  {
   "cell_type": "code",
   "execution_count": 8,
   "metadata": {},
   "outputs": [
    {
     "data": {
      "text/plain": [
       "Детская одежда               9662\n",
       "Развитие и школа             5408\n",
       "Детские игрушки и игры       5345\n",
       "Постельные принадлежности    3019\n",
       "Творчество и хобби           2605\n",
       "Детская мебель               1521\n",
       "Книжки                       1399\n",
       "Гигиена и здоровье           1180\n",
       "Детская обувь                 906\n",
       "Детские коляски               713\n",
       "Аксессуары для кормления      598\n",
       "Детский транспорт             596\n",
       "Спорт и отдых                 559\n",
       "Товары для мамы               495\n",
       "Летние товары                 464\n",
       "Купание малыша                408\n",
       "Зимние товары                 382\n",
       "Детские автокресла            305\n",
       "Детское питание               264\n",
       "Безопасность ребенка          120\n",
       "Name: Категория, dtype: int64"
      ]
     },
     "execution_count": 8,
     "metadata": {},
     "output_type": "execute_result"
    }
   ],
   "source": [
    "d['Категория'].value_counts()"
   ]
  },
  {
   "cell_type": "markdown",
   "metadata": {},
   "source": [
    "## \tисследование шкалы измерения каждого существенного признака;"
   ]
  },
  {
   "cell_type": "code",
   "execution_count": 9,
   "metadata": {},
   "outputs": [
    {
     "data": {
      "text/html": [
       "<div>\n",
       "<style scoped>\n",
       "    .dataframe tbody tr th:only-of-type {\n",
       "        vertical-align: middle;\n",
       "    }\n",
       "\n",
       "    .dataframe tbody tr th {\n",
       "        vertical-align: top;\n",
       "    }\n",
       "\n",
       "    .dataframe thead th {\n",
       "        text-align: right;\n",
       "    }\n",
       "</style>\n",
       "<table border=\"1\" class=\"dataframe\">\n",
       "  <thead>\n",
       "    <tr style=\"text-align: right;\">\n",
       "      <th></th>\n",
       "      <th>Новая цена</th>\n",
       "      <th>Старая цена</th>\n",
       "    </tr>\n",
       "  </thead>\n",
       "  <tbody>\n",
       "    <tr>\n",
       "      <th>count</th>\n",
       "      <td>35949.0</td>\n",
       "      <td>35949.0</td>\n",
       "    </tr>\n",
       "    <tr>\n",
       "      <th>mean</th>\n",
       "      <td>1932.5</td>\n",
       "      <td>2375.8</td>\n",
       "    </tr>\n",
       "    <tr>\n",
       "      <th>std</th>\n",
       "      <td>4836.4</td>\n",
       "      <td>5860.6</td>\n",
       "    </tr>\n",
       "    <tr>\n",
       "      <th>min</th>\n",
       "      <td>8.0</td>\n",
       "      <td>10.0</td>\n",
       "    </tr>\n",
       "    <tr>\n",
       "      <th>25%</th>\n",
       "      <td>264.0</td>\n",
       "      <td>340.0</td>\n",
       "    </tr>\n",
       "    <tr>\n",
       "      <th>50%</th>\n",
       "      <td>625.0</td>\n",
       "      <td>800.0</td>\n",
       "    </tr>\n",
       "    <tr>\n",
       "      <th>75%</th>\n",
       "      <td>1665.0</td>\n",
       "      <td>2099.0</td>\n",
       "    </tr>\n",
       "    <tr>\n",
       "      <th>max</th>\n",
       "      <td>136799.0</td>\n",
       "      <td>179999.0</td>\n",
       "    </tr>\n",
       "  </tbody>\n",
       "</table>\n",
       "</div>"
      ],
      "text/plain": [
       "       Новая цена  Старая цена\n",
       "count     35949.0      35949.0\n",
       "mean       1932.5       2375.8\n",
       "std        4836.4       5860.6\n",
       "min           8.0         10.0\n",
       "25%         264.0        340.0\n",
       "50%         625.0        800.0\n",
       "75%        1665.0       2099.0\n",
       "max      136799.0     179999.0"
      ]
     },
     "execution_count": 9,
     "metadata": {},
     "output_type": "execute_result"
    }
   ],
   "source": [
    "#описательная статистика\n",
    "d.describe()"
   ]
  },
  {
   "cell_type": "code",
   "execution_count": 10,
   "metadata": {},
   "outputs": [
    {
     "name": "stdout",
     "output_type": "stream",
     "text": [
      "В выборке рассмотрены офферы на продажу 35949 изделий\n"
     ]
    }
   ],
   "source": [
    "print(f'В выборке рассмотрены офферы на продажу {data.shape[0]} изделий')"
   ]
  },
  {
   "cell_type": "markdown",
   "metadata": {},
   "source": [
    "### Типы данных\n",
    "\n",
    "В конечном итоге, имеем датафрейм с двумя  типами данных:\n",
    "\n",
    "**город, категория**  - категориальные данные\n",
    "\n",
    "**Новая цена** - нумерические данные, принимает значения от 8 до 136799.0 рублей\n",
    "\n",
    "**Старая цена** - нумерические данные, принимает значения от 10 до 179999.0 рублей\n"
   ]
  },
  {
   "cell_type": "markdown",
   "metadata": {},
   "source": [
    "## Построение эмпирического распределения каждого существенного признака;"
   ]
  },
  {
   "cell_type": "code",
   "execution_count": 11,
   "metadata": {},
   "outputs": [
    {
     "name": "stdout",
     "output_type": "stream",
     "text": [
      "Медианная стоимость товаров составила 625\n"
     ]
    },
    {
     "data": {
      "image/png": "[encoded data removed]",
      "text/plain": [
       "<Figure size 1584x432 with 2 Axes>"
      ]
     },
     "metadata": {
      "needs_background": "light"
     },
     "output_type": "display_data"
    }
   ],
   "source": [
    "print('Медианная стоимость товаров составила {}'.format(int(data['Новая цена'].median())))\n",
    "\n",
    "fig, axes = plt.subplots(nrows=1, ncols=2, figsize=(22,6))\n",
    "\n",
    "plt.subplot(1,2,1)\n",
    "ax = sns.kdeplot(data['Новая цена'], shade=True, color = 'red')\n",
    "\n",
    "plt.subplot(1,2,2)\n",
    "ax = sns.boxplot(y=data['Новая цена'], color = 'black')\n",
    "\n",
    "fig.suptitle(\"Расспределение цен\",fontsize=25)\n",
    "plt.show()"
   ]
  },
  {
   "cell_type": "markdown",
   "metadata": {},
   "source": [
    "Распределение цен слишком сильно смещено влево, поэтому есть смысл далее исследовать их логарифмы"
   ]
  },
  {
   "cell_type": "code",
   "execution_count": 12,
   "metadata": {},
   "outputs": [
    {
     "data": {
      "image/png": "[encoded data removed]",
      "text/plain": [
       "<Figure size 432x288 with 1 Axes>"
      ]
     },
     "metadata": {
      "needs_background": "light"
     },
     "output_type": "display_data"
    }
   ],
   "source": [
    "sns.kdeplot(np.log(data['Новая цена']), shade=True, color = 'yellow')\n",
    "plt.title('Распределение прологарифмированных цен')\n",
    "plt.show()"
   ]
  },
  {
   "cell_type": "markdown",
   "metadata": {},
   "source": [
    "Посмотрим на распределения категориальных признаков и их связь с ценами машин"
   ]
  },
  {
   "cell_type": "code",
   "execution_count": 13,
   "metadata": {
    "scrolled": false
   },
   "outputs": [
    {
     "data": {
      "image/png": "[encoded data removed]",
      "text/plain": [
       "<Figure size 432x288 with 1 Axes>"
      ]
     },
     "metadata": {
      "needs_background": "light"
     },
     "output_type": "display_data"
    },
    {
     "data": {
      "image/png": "[encoded data removed]",
      "text/plain": [
       "<Figure size 432x288 with 1 Axes>"
      ]
     },
     "metadata": {
      "needs_background": "light"
     },
     "output_type": "display_data"
    },
    {
     "data": {
      "image/png": "[encoded data removed]",
      "text/plain": [
       "<Figure size 432x288 with 1 Axes>"
      ]
     },
     "metadata": {
      "needs_background": "light"
     },
     "output_type": "display_data"
    }
   ],
   "source": [
    "categorical_columns = data.columns[data.dtypes == 'object']\n",
    "counter = 0\n",
    "for column in categorical_columns:\n",
    "    \n",
    "    columne_most_freq = data[column].value_counts()[:10].sort_values(ascending=False).index\n",
    "    \n",
    "    if '' in columne_most_freq:\n",
    "        columne_most_freq = columne_most_freq.drop('')\n",
    "       \n",
    "    counter+=1\n",
    "    plt.figure(counter)\n",
    "    plt.title(f'{column} Histogram')\n",
    "    sns.countplot(\n",
    "            data[data[column].isin(columne_most_freq)][column],\n",
    "            order=columne_most_freq,\n",
    "            palette= [\"#9b59b6\", \"#3498db\", \"#95a5a6\", \"#e74c3c\", \"#34495e\", \"#2ecc71\"]\n",
    "    )\n",
    "\n",
    "    plt.show() #по граифку определяем, что наиболее популярная группа товаров - детская одежда, и в СПБ находится меньше товаров, чем в МСК"
   ]
  },
  {
   "cell_type": "markdown",
   "metadata": {},
   "source": [
    "по граифку определяем, что наиболее популярная группа товаров - детская одежда, и в СПБ находится меньше товаров, чем в МСК"
   ]
  },
  {
   "cell_type": "code",
   "execution_count": 14,
   "metadata": {},
   "outputs": [],
   "source": [
    "# d[['Категория','Город']] = d[['Категория','Город']].astype('category')#проиндексируем данные для визуализации корреляции\n",
    "# d['Категория'] = d['Категория'].cat.codes\n",
    "# d['Город'] = d['Город'].cat.codes"
   ]
  },
  {
   "cell_type": "code",
   "execution_count": 14,
   "metadata": {},
   "outputs": [
    {
     "name": "stdout",
     "output_type": "stream",
     "text": [
      "{0: 'Москва', 1: 'Санкт-Петербург'}\n",
      "{0: 'Аксессуары для кормления', 1: 'Безопасность ребенка', 2: 'Гигиена и здоровье', 3: 'Детская мебель', 4: 'Детская обувь', 5: 'Детская одежда', 6: 'Детские автокресла', 7: 'Детские игрушки и игры', 8: 'Детские коляски', 9: 'Детский транспорт', 10: 'Детское питание', 11: 'Зимние товары', 12: 'Книжки', 13: 'Купание малыша', 14: 'Летние товары', 15: 'Постельные принадлежности', 16: 'Развитие и школа', 17: 'Спорт и отдых', 18: 'Творчество и хобби', 19: 'Товары для мамы'}\n"
     ]
    }
   ],
   "source": [
    "d[['Категория','Город']] = d[['Категория','Город']].astype('category')#проиндексируем данные для визуализации корреляции\n",
    "indexes_town = dict(enumerate(d['Город'].cat.categories))\n",
    "print(indexes_town)\n",
    "indexes_category = dict(enumerate(d['Категория'].cat.categories))\n",
    "print(indexes_category)\n",
    "d['Категория'] = d['Категория'].cat.codes\n",
    "d['Город']= d['Город'].cat.codes"
   ]
  },
  {
   "cell_type": "markdown",
   "metadata": {},
   "source": [
    "## Построение совместного распределения каждого признака и целевой переменной;"
   ]
  },
  {
   "cell_type": "markdown",
   "metadata": {},
   "source": [
    "Корреляционная матрица позволила увидеть лишь корреляцию между старой и новой ценой"
   ]
  },
  {
   "cell_type": "code",
   "execution_count": 15,
   "metadata": {},
   "outputs": [
    {
     "data": {
      "image/png": "[encoded data removed]",
      "text/plain": [
       "<Figure size 720x576 with 2 Axes>"
      ]
     },
     "metadata": {
      "needs_background": "light"
     },
     "output_type": "display_data"
    }
   ],
   "source": [
    "plt.figure(figsize = (10, 8))\n",
    "sns.heatmap(d.corr(), annot = True, linewidths=.5, cmap = 'Blues')\n",
    "plt.show()"
   ]
  },
  {
   "cell_type": "code",
   "execution_count": 16,
   "metadata": {},
   "outputs": [
    {
     "data": {
      "image/png": "[encoded data removed]",
      "text/plain": [
       "<Figure size 1800x720 with 4 Axes>"
      ]
     },
     "metadata": {
      "needs_background": "light"
     },
     "output_type": "display_data"
    }
   ],
   "source": [
    "d.hist(figsize=(25,10), color='darkred')\n",
    "plt.show()"
   ]
  },
  {
   "cell_type": "code",
   "execution_count": 17,
   "metadata": {},
   "outputs": [
    {
     "data": {
      "text/plain": [
       "<seaborn.axisgrid.PairGrid at 0x2647c8414c8>"
      ]
     },
     "execution_count": 17,
     "metadata": {},
     "output_type": "execute_result"
    },
    {
     "data": {
      "image/png": "[encoded data removed]",
      "text/plain": [
       "<Figure size 585.625x540 with 12 Axes>"
      ]
     },
     "metadata": {
      "needs_background": "light"
     },
     "output_type": "display_data"
    }
   ],
   "source": [
    "sns.pairplot(d, hue='Город', palette='Set1')"
   ]
  },
  {
   "cell_type": "markdown",
   "metadata": {},
   "source": [
    "На графиках видна сильная линейная зависимость между старой и новой ценой"
   ]
  },
  {
   "cell_type": "markdown",
   "metadata": {},
   "source": [
    "## Приведение всех признаков к бинарной либо числовой шкале;"
   ]
  },
  {
   "cell_type": "code",
   "execution_count": 18,
   "metadata": {},
   "outputs": [
    {
     "data": {
      "text/html": [
       "<div>\n",
       "<style scoped>\n",
       "    .dataframe tbody tr th:only-of-type {\n",
       "        vertical-align: middle;\n",
       "    }\n",
       "\n",
       "    .dataframe tbody tr th {\n",
       "        vertical-align: top;\n",
       "    }\n",
       "\n",
       "    .dataframe thead th {\n",
       "        text-align: right;\n",
       "    }\n",
       "</style>\n",
       "<table border=\"1\" class=\"dataframe\">\n",
       "  <thead>\n",
       "    <tr style=\"text-align: right;\">\n",
       "      <th></th>\n",
       "      <th>Москва</th>\n",
       "      <th>Санкт-Петербург</th>\n",
       "    </tr>\n",
       "  </thead>\n",
       "  <tbody>\n",
       "    <tr>\n",
       "      <th>0</th>\n",
       "      <td>0</td>\n",
       "      <td>1</td>\n",
       "    </tr>\n",
       "    <tr>\n",
       "      <th>1</th>\n",
       "      <td>0</td>\n",
       "      <td>1</td>\n",
       "    </tr>\n",
       "    <tr>\n",
       "      <th>2</th>\n",
       "      <td>0</td>\n",
       "      <td>1</td>\n",
       "    </tr>\n",
       "    <tr>\n",
       "      <th>3</th>\n",
       "      <td>0</td>\n",
       "      <td>1</td>\n",
       "    </tr>\n",
       "    <tr>\n",
       "      <th>4</th>\n",
       "      <td>1</td>\n",
       "      <td>0</td>\n",
       "    </tr>\n",
       "    <tr>\n",
       "      <th>...</th>\n",
       "      <td>...</td>\n",
       "      <td>...</td>\n",
       "    </tr>\n",
       "    <tr>\n",
       "      <th>35944</th>\n",
       "      <td>1</td>\n",
       "      <td>0</td>\n",
       "    </tr>\n",
       "    <tr>\n",
       "      <th>35945</th>\n",
       "      <td>1</td>\n",
       "      <td>0</td>\n",
       "    </tr>\n",
       "    <tr>\n",
       "      <th>35946</th>\n",
       "      <td>1</td>\n",
       "      <td>0</td>\n",
       "    </tr>\n",
       "    <tr>\n",
       "      <th>35947</th>\n",
       "      <td>1</td>\n",
       "      <td>0</td>\n",
       "    </tr>\n",
       "    <tr>\n",
       "      <th>35948</th>\n",
       "      <td>1</td>\n",
       "      <td>0</td>\n",
       "    </tr>\n",
       "  </tbody>\n",
       "</table>\n",
       "<p>35949 rows × 2 columns</p>\n",
       "</div>"
      ],
      "text/plain": [
       "       Москва  Санкт-Петербург\n",
       "0           0                1\n",
       "1           0                1\n",
       "2           0                1\n",
       "3           0                1\n",
       "4           1                0\n",
       "...       ...              ...\n",
       "35944       1                0\n",
       "35945       1                0\n",
       "35946       1                0\n",
       "35947       1                0\n",
       "35948       1                0\n",
       "\n",
       "[35949 rows x 2 columns]"
      ]
     },
     "execution_count": 18,
     "metadata": {},
     "output_type": "execute_result"
    }
   ],
   "source": [
    "town=pd.get_dummies(d['Город'])\n",
    "town.columns= indexes_town.values() \n",
    "town"
   ]
  },
  {
   "cell_type": "code",
   "execution_count": 19,
   "metadata": {},
   "outputs": [
    {
     "data": {
      "text/html": [
       "<div>\n",
       "<style scoped>\n",
       "    .dataframe tbody tr th:only-of-type {\n",
       "        vertical-align: middle;\n",
       "    }\n",
       "\n",
       "    .dataframe tbody tr th {\n",
       "        vertical-align: top;\n",
       "    }\n",
       "\n",
       "    .dataframe thead th {\n",
       "        text-align: right;\n",
       "    }\n",
       "</style>\n",
       "<table border=\"1\" class=\"dataframe\">\n",
       "  <thead>\n",
       "    <tr style=\"text-align: right;\">\n",
       "      <th></th>\n",
       "      <th>Аксессуары для кормления</th>\n",
       "      <th>Безопасность ребенка</th>\n",
       "      <th>Гигиена и здоровье</th>\n",
       "      <th>Детская мебель</th>\n",
       "      <th>Детская обувь</th>\n",
       "      <th>Детская одежда</th>\n",
       "      <th>Детские автокресла</th>\n",
       "      <th>Детские игрушки и игры</th>\n",
       "      <th>Детские коляски</th>\n",
       "      <th>Детский транспорт</th>\n",
       "      <th>Детское питание</th>\n",
       "      <th>Зимние товары</th>\n",
       "      <th>Книжки</th>\n",
       "      <th>Купание малыша</th>\n",
       "      <th>Летние товары</th>\n",
       "      <th>Постельные принадлежности</th>\n",
       "      <th>Развитие и школа</th>\n",
       "      <th>Спорт и отдых</th>\n",
       "      <th>Творчество и хобби</th>\n",
       "      <th>Товары для мамы</th>\n",
       "    </tr>\n",
       "  </thead>\n",
       "  <tbody>\n",
       "    <tr>\n",
       "      <th>0</th>\n",
       "      <td>0</td>\n",
       "      <td>0</td>\n",
       "      <td>0</td>\n",
       "      <td>0</td>\n",
       "      <td>0</td>\n",
       "      <td>1</td>\n",
       "      <td>0</td>\n",
       "      <td>0</td>\n",
       "      <td>0</td>\n",
       "      <td>0</td>\n",
       "      <td>0</td>\n",
       "      <td>0</td>\n",
       "      <td>0</td>\n",
       "      <td>0</td>\n",
       "      <td>0</td>\n",
       "      <td>0</td>\n",
       "      <td>0</td>\n",
       "      <td>0</td>\n",
       "      <td>0</td>\n",
       "      <td>0</td>\n",
       "    </tr>\n",
       "    <tr>\n",
       "      <th>1</th>\n",
       "      <td>0</td>\n",
       "      <td>0</td>\n",
       "      <td>0</td>\n",
       "      <td>0</td>\n",
       "      <td>0</td>\n",
       "      <td>0</td>\n",
       "      <td>0</td>\n",
       "      <td>1</td>\n",
       "      <td>0</td>\n",
       "      <td>0</td>\n",
       "      <td>0</td>\n",
       "      <td>0</td>\n",
       "      <td>0</td>\n",
       "      <td>0</td>\n",
       "      <td>0</td>\n",
       "      <td>0</td>\n",
       "      <td>0</td>\n",
       "      <td>0</td>\n",
       "      <td>0</td>\n",
       "      <td>0</td>\n",
       "    </tr>\n",
       "    <tr>\n",
       "      <th>2</th>\n",
       "      <td>0</td>\n",
       "      <td>0</td>\n",
       "      <td>0</td>\n",
       "      <td>0</td>\n",
       "      <td>0</td>\n",
       "      <td>1</td>\n",
       "      <td>0</td>\n",
       "      <td>0</td>\n",
       "      <td>0</td>\n",
       "      <td>0</td>\n",
       "      <td>0</td>\n",
       "      <td>0</td>\n",
       "      <td>0</td>\n",
       "      <td>0</td>\n",
       "      <td>0</td>\n",
       "      <td>0</td>\n",
       "      <td>0</td>\n",
       "      <td>0</td>\n",
       "      <td>0</td>\n",
       "      <td>0</td>\n",
       "    </tr>\n",
       "    <tr>\n",
       "      <th>3</th>\n",
       "      <td>0</td>\n",
       "      <td>0</td>\n",
       "      <td>0</td>\n",
       "      <td>0</td>\n",
       "      <td>0</td>\n",
       "      <td>1</td>\n",
       "      <td>0</td>\n",
       "      <td>0</td>\n",
       "      <td>0</td>\n",
       "      <td>0</td>\n",
       "      <td>0</td>\n",
       "      <td>0</td>\n",
       "      <td>0</td>\n",
       "      <td>0</td>\n",
       "      <td>0</td>\n",
       "      <td>0</td>\n",
       "      <td>0</td>\n",
       "      <td>0</td>\n",
       "      <td>0</td>\n",
       "      <td>0</td>\n",
       "    </tr>\n",
       "    <tr>\n",
       "      <th>4</th>\n",
       "      <td>0</td>\n",
       "      <td>0</td>\n",
       "      <td>0</td>\n",
       "      <td>0</td>\n",
       "      <td>0</td>\n",
       "      <td>1</td>\n",
       "      <td>0</td>\n",
       "      <td>0</td>\n",
       "      <td>0</td>\n",
       "      <td>0</td>\n",
       "      <td>0</td>\n",
       "      <td>0</td>\n",
       "      <td>0</td>\n",
       "      <td>0</td>\n",
       "      <td>0</td>\n",
       "      <td>0</td>\n",
       "      <td>0</td>\n",
       "      <td>0</td>\n",
       "      <td>0</td>\n",
       "      <td>0</td>\n",
       "    </tr>\n",
       "    <tr>\n",
       "      <th>...</th>\n",
       "      <td>...</td>\n",
       "      <td>...</td>\n",
       "      <td>...</td>\n",
       "      <td>...</td>\n",
       "      <td>...</td>\n",
       "      <td>...</td>\n",
       "      <td>...</td>\n",
       "      <td>...</td>\n",
       "      <td>...</td>\n",
       "      <td>...</td>\n",
       "      <td>...</td>\n",
       "      <td>...</td>\n",
       "      <td>...</td>\n",
       "      <td>...</td>\n",
       "      <td>...</td>\n",
       "      <td>...</td>\n",
       "      <td>...</td>\n",
       "      <td>...</td>\n",
       "      <td>...</td>\n",
       "      <td>...</td>\n",
       "    </tr>\n",
       "    <tr>\n",
       "      <th>35944</th>\n",
       "      <td>0</td>\n",
       "      <td>0</td>\n",
       "      <td>0</td>\n",
       "      <td>0</td>\n",
       "      <td>0</td>\n",
       "      <td>0</td>\n",
       "      <td>0</td>\n",
       "      <td>0</td>\n",
       "      <td>0</td>\n",
       "      <td>0</td>\n",
       "      <td>0</td>\n",
       "      <td>0</td>\n",
       "      <td>0</td>\n",
       "      <td>0</td>\n",
       "      <td>0</td>\n",
       "      <td>0</td>\n",
       "      <td>1</td>\n",
       "      <td>0</td>\n",
       "      <td>0</td>\n",
       "      <td>0</td>\n",
       "    </tr>\n",
       "    <tr>\n",
       "      <th>35945</th>\n",
       "      <td>0</td>\n",
       "      <td>0</td>\n",
       "      <td>0</td>\n",
       "      <td>0</td>\n",
       "      <td>0</td>\n",
       "      <td>0</td>\n",
       "      <td>0</td>\n",
       "      <td>0</td>\n",
       "      <td>0</td>\n",
       "      <td>0</td>\n",
       "      <td>0</td>\n",
       "      <td>0</td>\n",
       "      <td>0</td>\n",
       "      <td>0</td>\n",
       "      <td>0</td>\n",
       "      <td>0</td>\n",
       "      <td>1</td>\n",
       "      <td>0</td>\n",
       "      <td>0</td>\n",
       "      <td>0</td>\n",
       "    </tr>\n",
       "    <tr>\n",
       "      <th>35946</th>\n",
       "      <td>0</td>\n",
       "      <td>0</td>\n",
       "      <td>0</td>\n",
       "      <td>0</td>\n",
       "      <td>0</td>\n",
       "      <td>0</td>\n",
       "      <td>0</td>\n",
       "      <td>0</td>\n",
       "      <td>0</td>\n",
       "      <td>0</td>\n",
       "      <td>0</td>\n",
       "      <td>0</td>\n",
       "      <td>0</td>\n",
       "      <td>0</td>\n",
       "      <td>0</td>\n",
       "      <td>0</td>\n",
       "      <td>1</td>\n",
       "      <td>0</td>\n",
       "      <td>0</td>\n",
       "      <td>0</td>\n",
       "    </tr>\n",
       "    <tr>\n",
       "      <th>35947</th>\n",
       "      <td>0</td>\n",
       "      <td>0</td>\n",
       "      <td>0</td>\n",
       "      <td>0</td>\n",
       "      <td>0</td>\n",
       "      <td>0</td>\n",
       "      <td>0</td>\n",
       "      <td>0</td>\n",
       "      <td>0</td>\n",
       "      <td>0</td>\n",
       "      <td>0</td>\n",
       "      <td>0</td>\n",
       "      <td>0</td>\n",
       "      <td>0</td>\n",
       "      <td>0</td>\n",
       "      <td>0</td>\n",
       "      <td>1</td>\n",
       "      <td>0</td>\n",
       "      <td>0</td>\n",
       "      <td>0</td>\n",
       "    </tr>\n",
       "    <tr>\n",
       "      <th>35948</th>\n",
       "      <td>0</td>\n",
       "      <td>0</td>\n",
       "      <td>0</td>\n",
       "      <td>0</td>\n",
       "      <td>0</td>\n",
       "      <td>0</td>\n",
       "      <td>0</td>\n",
       "      <td>0</td>\n",
       "      <td>0</td>\n",
       "      <td>0</td>\n",
       "      <td>0</td>\n",
       "      <td>0</td>\n",
       "      <td>0</td>\n",
       "      <td>0</td>\n",
       "      <td>0</td>\n",
       "      <td>0</td>\n",
       "      <td>1</td>\n",
       "      <td>0</td>\n",
       "      <td>0</td>\n",
       "      <td>0</td>\n",
       "    </tr>\n",
       "  </tbody>\n",
       "</table>\n",
       "<p>35949 rows × 20 columns</p>\n",
       "</div>"
      ],
      "text/plain": [
       "       Аксессуары для кормления  Безопасность ребенка  Гигиена и здоровье  \\\n",
       "0                             0                     0                   0   \n",
       "1                             0                     0                   0   \n",
       "2                             0                     0                   0   \n",
       "3                             0                     0                   0   \n",
       "4                             0                     0                   0   \n",
       "...                         ...                   ...                 ...   \n",
       "35944                         0                     0                   0   \n",
       "35945                         0                     0                   0   \n",
       "35946                         0                     0                   0   \n",
       "35947                         0                     0                   0   \n",
       "35948                         0                     0                   0   \n",
       "\n",
       "       Детская мебель  Детская обувь  Детская одежда  Детские автокресла  \\\n",
       "0                   0              0               1                   0   \n",
       "1                   0              0               0                   0   \n",
       "2                   0              0               1                   0   \n",
       "3                   0              0               1                   0   \n",
       "4                   0              0               1                   0   \n",
       "...               ...            ...             ...                 ...   \n",
       "35944               0              0               0                   0   \n",
       "35945               0              0               0                   0   \n",
       "35946               0              0               0                   0   \n",
       "35947               0              0               0                   0   \n",
       "35948               0              0               0                   0   \n",
       "\n",
       "       Детские игрушки и игры  Детские коляски  Детский транспорт  \\\n",
       "0                           0                0                  0   \n",
       "1                           1                0                  0   \n",
       "2                           0                0                  0   \n",
       "3                           0                0                  0   \n",
       "4                           0                0                  0   \n",
       "...                       ...              ...                ...   \n",
       "35944                       0                0                  0   \n",
       "35945                       0                0                  0   \n",
       "35946                       0                0                  0   \n",
       "35947                       0                0                  0   \n",
       "35948                       0                0                  0   \n",
       "\n",
       "       Детское питание  Зимние товары  Книжки  Купание малыша  Летние товары  \\\n",
       "0                    0              0       0               0              0   \n",
       "1                    0              0       0               0              0   \n",
       "2                    0              0       0               0              0   \n",
       "3                    0              0       0               0              0   \n",
       "4                    0              0       0               0              0   \n",
       "...                ...            ...     ...             ...            ...   \n",
       "35944                0              0       0               0              0   \n",
       "35945                0              0       0               0              0   \n",
       "35946                0              0       0               0              0   \n",
       "35947                0              0       0               0              0   \n",
       "35948                0              0       0               0              0   \n",
       "\n",
       "       Постельные принадлежности  Развитие и школа  Спорт и отдых  \\\n",
       "0                              0                 0              0   \n",
       "1                              0                 0              0   \n",
       "2                              0                 0              0   \n",
       "3                              0                 0              0   \n",
       "4                              0                 0              0   \n",
       "...                          ...               ...            ...   \n",
       "35944                          0                 1              0   \n",
       "35945                          0                 1              0   \n",
       "35946                          0                 1              0   \n",
       "35947                          0                 1              0   \n",
       "35948                          0                 1              0   \n",
       "\n",
       "       Творчество и хобби  Товары для мамы  \n",
       "0                       0                0  \n",
       "1                       0                0  \n",
       "2                       0                0  \n",
       "3                       0                0  \n",
       "4                       0                0  \n",
       "...                   ...              ...  \n",
       "35944                   0                0  \n",
       "35945                   0                0  \n",
       "35946                   0                0  \n",
       "35947                   0                0  \n",
       "35948                   0                0  \n",
       "\n",
       "[35949 rows x 20 columns]"
      ]
     },
     "execution_count": 19,
     "metadata": {},
     "output_type": "execute_result"
    }
   ],
   "source": [
    "category=pd.get_dummies(d['Категория'])\n",
    "category.columns= indexes_category.values() \n",
    "category"
   ]
  },
  {
   "cell_type": "code",
   "execution_count": 20,
   "metadata": {},
   "outputs": [
    {
     "data": {
      "text/html": [
       "<div>\n",
       "<style scoped>\n",
       "    .dataframe tbody tr th:only-of-type {\n",
       "        vertical-align: middle;\n",
       "    }\n",
       "\n",
       "    .dataframe tbody tr th {\n",
       "        vertical-align: top;\n",
       "    }\n",
       "\n",
       "    .dataframe thead th {\n",
       "        text-align: right;\n",
       "    }\n",
       "</style>\n",
       "<table border=\"1\" class=\"dataframe\">\n",
       "  <thead>\n",
       "    <tr style=\"text-align: right;\">\n",
       "      <th></th>\n",
       "      <th>Новая цена</th>\n",
       "      <th>Старая цена</th>\n",
       "      <th>Москва</th>\n",
       "      <th>Санкт-Петербург</th>\n",
       "      <th>Аксессуары для кормления</th>\n",
       "      <th>Безопасность ребенка</th>\n",
       "      <th>Гигиена и здоровье</th>\n",
       "      <th>Детская мебель</th>\n",
       "      <th>Детская обувь</th>\n",
       "      <th>Детская одежда</th>\n",
       "      <th>...</th>\n",
       "      <th>Детское питание</th>\n",
       "      <th>Зимние товары</th>\n",
       "      <th>Книжки</th>\n",
       "      <th>Купание малыша</th>\n",
       "      <th>Летние товары</th>\n",
       "      <th>Постельные принадлежности</th>\n",
       "      <th>Развитие и школа</th>\n",
       "      <th>Спорт и отдых</th>\n",
       "      <th>Творчество и хобби</th>\n",
       "      <th>Товары для мамы</th>\n",
       "    </tr>\n",
       "  </thead>\n",
       "  <tbody>\n",
       "    <tr>\n",
       "      <th>0</th>\n",
       "      <td>648</td>\n",
       "      <td>1115</td>\n",
       "      <td>0</td>\n",
       "      <td>1</td>\n",
       "      <td>0</td>\n",
       "      <td>0</td>\n",
       "      <td>0</td>\n",
       "      <td>0</td>\n",
       "      <td>0</td>\n",
       "      <td>1</td>\n",
       "      <td>...</td>\n",
       "      <td>0</td>\n",
       "      <td>0</td>\n",
       "      <td>0</td>\n",
       "      <td>0</td>\n",
       "      <td>0</td>\n",
       "      <td>0</td>\n",
       "      <td>0</td>\n",
       "      <td>0</td>\n",
       "      <td>0</td>\n",
       "      <td>0</td>\n",
       "    </tr>\n",
       "    <tr>\n",
       "      <th>1</th>\n",
       "      <td>708</td>\n",
       "      <td>999</td>\n",
       "      <td>0</td>\n",
       "      <td>1</td>\n",
       "      <td>0</td>\n",
       "      <td>0</td>\n",
       "      <td>0</td>\n",
       "      <td>0</td>\n",
       "      <td>0</td>\n",
       "      <td>0</td>\n",
       "      <td>...</td>\n",
       "      <td>0</td>\n",
       "      <td>0</td>\n",
       "      <td>0</td>\n",
       "      <td>0</td>\n",
       "      <td>0</td>\n",
       "      <td>0</td>\n",
       "      <td>0</td>\n",
       "      <td>0</td>\n",
       "      <td>0</td>\n",
       "      <td>0</td>\n",
       "    </tr>\n",
       "    <tr>\n",
       "      <th>2</th>\n",
       "      <td>540</td>\n",
       "      <td>780</td>\n",
       "      <td>0</td>\n",
       "      <td>1</td>\n",
       "      <td>0</td>\n",
       "      <td>0</td>\n",
       "      <td>0</td>\n",
       "      <td>0</td>\n",
       "      <td>0</td>\n",
       "      <td>1</td>\n",
       "      <td>...</td>\n",
       "      <td>0</td>\n",
       "      <td>0</td>\n",
       "      <td>0</td>\n",
       "      <td>0</td>\n",
       "      <td>0</td>\n",
       "      <td>0</td>\n",
       "      <td>0</td>\n",
       "      <td>0</td>\n",
       "      <td>0</td>\n",
       "      <td>0</td>\n",
       "    </tr>\n",
       "    <tr>\n",
       "      <th>3</th>\n",
       "      <td>669</td>\n",
       "      <td>740</td>\n",
       "      <td>0</td>\n",
       "      <td>1</td>\n",
       "      <td>0</td>\n",
       "      <td>0</td>\n",
       "      <td>0</td>\n",
       "      <td>0</td>\n",
       "      <td>0</td>\n",
       "      <td>1</td>\n",
       "      <td>...</td>\n",
       "      <td>0</td>\n",
       "      <td>0</td>\n",
       "      <td>0</td>\n",
       "      <td>0</td>\n",
       "      <td>0</td>\n",
       "      <td>0</td>\n",
       "      <td>0</td>\n",
       "      <td>0</td>\n",
       "      <td>0</td>\n",
       "      <td>0</td>\n",
       "    </tr>\n",
       "    <tr>\n",
       "      <th>4</th>\n",
       "      <td>499</td>\n",
       "      <td>730</td>\n",
       "      <td>1</td>\n",
       "      <td>0</td>\n",
       "      <td>0</td>\n",
       "      <td>0</td>\n",
       "      <td>0</td>\n",
       "      <td>0</td>\n",
       "      <td>0</td>\n",
       "      <td>1</td>\n",
       "      <td>...</td>\n",
       "      <td>0</td>\n",
       "      <td>0</td>\n",
       "      <td>0</td>\n",
       "      <td>0</td>\n",
       "      <td>0</td>\n",
       "      <td>0</td>\n",
       "      <td>0</td>\n",
       "      <td>0</td>\n",
       "      <td>0</td>\n",
       "      <td>0</td>\n",
       "    </tr>\n",
       "    <tr>\n",
       "      <th>...</th>\n",
       "      <td>...</td>\n",
       "      <td>...</td>\n",
       "      <td>...</td>\n",
       "      <td>...</td>\n",
       "      <td>...</td>\n",
       "      <td>...</td>\n",
       "      <td>...</td>\n",
       "      <td>...</td>\n",
       "      <td>...</td>\n",
       "      <td>...</td>\n",
       "      <td>...</td>\n",
       "      <td>...</td>\n",
       "      <td>...</td>\n",
       "      <td>...</td>\n",
       "      <td>...</td>\n",
       "      <td>...</td>\n",
       "      <td>...</td>\n",
       "      <td>...</td>\n",
       "      <td>...</td>\n",
       "      <td>...</td>\n",
       "      <td>...</td>\n",
       "    </tr>\n",
       "    <tr>\n",
       "      <th>35944</th>\n",
       "      <td>8202</td>\n",
       "      <td>8695</td>\n",
       "      <td>1</td>\n",
       "      <td>0</td>\n",
       "      <td>0</td>\n",
       "      <td>0</td>\n",
       "      <td>0</td>\n",
       "      <td>0</td>\n",
       "      <td>0</td>\n",
       "      <td>0</td>\n",
       "      <td>...</td>\n",
       "      <td>0</td>\n",
       "      <td>0</td>\n",
       "      <td>0</td>\n",
       "      <td>0</td>\n",
       "      <td>0</td>\n",
       "      <td>0</td>\n",
       "      <td>1</td>\n",
       "      <td>0</td>\n",
       "      <td>0</td>\n",
       "      <td>0</td>\n",
       "    </tr>\n",
       "    <tr>\n",
       "      <th>35945</th>\n",
       "      <td>8258</td>\n",
       "      <td>8570</td>\n",
       "      <td>1</td>\n",
       "      <td>0</td>\n",
       "      <td>0</td>\n",
       "      <td>0</td>\n",
       "      <td>0</td>\n",
       "      <td>0</td>\n",
       "      <td>0</td>\n",
       "      <td>0</td>\n",
       "      <td>...</td>\n",
       "      <td>0</td>\n",
       "      <td>0</td>\n",
       "      <td>0</td>\n",
       "      <td>0</td>\n",
       "      <td>0</td>\n",
       "      <td>0</td>\n",
       "      <td>1</td>\n",
       "      <td>0</td>\n",
       "      <td>0</td>\n",
       "      <td>0</td>\n",
       "    </tr>\n",
       "    <tr>\n",
       "      <th>35946</th>\n",
       "      <td>8340</td>\n",
       "      <td>8874</td>\n",
       "      <td>1</td>\n",
       "      <td>0</td>\n",
       "      <td>0</td>\n",
       "      <td>0</td>\n",
       "      <td>0</td>\n",
       "      <td>0</td>\n",
       "      <td>0</td>\n",
       "      <td>0</td>\n",
       "      <td>...</td>\n",
       "      <td>0</td>\n",
       "      <td>0</td>\n",
       "      <td>0</td>\n",
       "      <td>0</td>\n",
       "      <td>0</td>\n",
       "      <td>0</td>\n",
       "      <td>1</td>\n",
       "      <td>0</td>\n",
       "      <td>0</td>\n",
       "      <td>0</td>\n",
       "    </tr>\n",
       "    <tr>\n",
       "      <th>35947</th>\n",
       "      <td>9902</td>\n",
       "      <td>10530</td>\n",
       "      <td>1</td>\n",
       "      <td>0</td>\n",
       "      <td>0</td>\n",
       "      <td>0</td>\n",
       "      <td>0</td>\n",
       "      <td>0</td>\n",
       "      <td>0</td>\n",
       "      <td>0</td>\n",
       "      <td>...</td>\n",
       "      <td>0</td>\n",
       "      <td>0</td>\n",
       "      <td>0</td>\n",
       "      <td>0</td>\n",
       "      <td>0</td>\n",
       "      <td>0</td>\n",
       "      <td>1</td>\n",
       "      <td>0</td>\n",
       "      <td>0</td>\n",
       "      <td>0</td>\n",
       "    </tr>\n",
       "    <tr>\n",
       "      <th>35948</th>\n",
       "      <td>10040</td>\n",
       "      <td>10674</td>\n",
       "      <td>1</td>\n",
       "      <td>0</td>\n",
       "      <td>0</td>\n",
       "      <td>0</td>\n",
       "      <td>0</td>\n",
       "      <td>0</td>\n",
       "      <td>0</td>\n",
       "      <td>0</td>\n",
       "      <td>...</td>\n",
       "      <td>0</td>\n",
       "      <td>0</td>\n",
       "      <td>0</td>\n",
       "      <td>0</td>\n",
       "      <td>0</td>\n",
       "      <td>0</td>\n",
       "      <td>1</td>\n",
       "      <td>0</td>\n",
       "      <td>0</td>\n",
       "      <td>0</td>\n",
       "    </tr>\n",
       "  </tbody>\n",
       "</table>\n",
       "<p>35949 rows × 24 columns</p>\n",
       "</div>"
      ],
      "text/plain": [
       "       Новая цена  Старая цена  Москва  Санкт-Петербург  \\\n",
       "0             648         1115       0                1   \n",
       "1             708          999       0                1   \n",
       "2             540          780       0                1   \n",
       "3             669          740       0                1   \n",
       "4             499          730       1                0   \n",
       "...           ...          ...     ...              ...   \n",
       "35944        8202         8695       1                0   \n",
       "35945        8258         8570       1                0   \n",
       "35946        8340         8874       1                0   \n",
       "35947        9902        10530       1                0   \n",
       "35948       10040        10674       1                0   \n",
       "\n",
       "       Аксессуары для кормления  Безопасность ребенка  Гигиена и здоровье  \\\n",
       "0                             0                     0                   0   \n",
       "1                             0                     0                   0   \n",
       "2                             0                     0                   0   \n",
       "3                             0                     0                   0   \n",
       "4                             0                     0                   0   \n",
       "...                         ...                   ...                 ...   \n",
       "35944                         0                     0                   0   \n",
       "35945                         0                     0                   0   \n",
       "35946                         0                     0                   0   \n",
       "35947                         0                     0                   0   \n",
       "35948                         0                     0                   0   \n",
       "\n",
       "       Детская мебель  Детская обувь  Детская одежда  ...  Детское питание  \\\n",
       "0                   0              0               1  ...                0   \n",
       "1                   0              0               0  ...                0   \n",
       "2                   0              0               1  ...                0   \n",
       "3                   0              0               1  ...                0   \n",
       "4                   0              0               1  ...                0   \n",
       "...               ...            ...             ...  ...              ...   \n",
       "35944               0              0               0  ...                0   \n",
       "35945               0              0               0  ...                0   \n",
       "35946               0              0               0  ...                0   \n",
       "35947               0              0               0  ...                0   \n",
       "35948               0              0               0  ...                0   \n",
       "\n",
       "       Зимние товары  Книжки  Купание малыша  Летние товары  \\\n",
       "0                  0       0               0              0   \n",
       "1                  0       0               0              0   \n",
       "2                  0       0               0              0   \n",
       "3                  0       0               0              0   \n",
       "4                  0       0               0              0   \n",
       "...              ...     ...             ...            ...   \n",
       "35944              0       0               0              0   \n",
       "35945              0       0               0              0   \n",
       "35946              0       0               0              0   \n",
       "35947              0       0               0              0   \n",
       "35948              0       0               0              0   \n",
       "\n",
       "       Постельные принадлежности  Развитие и школа  Спорт и отдых  \\\n",
       "0                              0                 0              0   \n",
       "1                              0                 0              0   \n",
       "2                              0                 0              0   \n",
       "3                              0                 0              0   \n",
       "4                              0                 0              0   \n",
       "...                          ...               ...            ...   \n",
       "35944                          0                 1              0   \n",
       "35945                          0                 1              0   \n",
       "35946                          0                 1              0   \n",
       "35947                          0                 1              0   \n",
       "35948                          0                 1              0   \n",
       "\n",
       "       Творчество и хобби  Товары для мамы  \n",
       "0                       0                0  \n",
       "1                       0                0  \n",
       "2                       0                0  \n",
       "3                       0                0  \n",
       "4                       0                0  \n",
       "...                   ...              ...  \n",
       "35944                   0                0  \n",
       "35945                   0                0  \n",
       "35946                   0                0  \n",
       "35947                   0                0  \n",
       "35948                   0                0  \n",
       "\n",
       "[35949 rows x 24 columns]"
      ]
     },
     "execution_count": 20,
     "metadata": {},
     "output_type": "execute_result"
    }
   ],
   "source": [
    "df=pd.concat([d['Новая цена'],d['Старая цена'], town, category], axis=1)\n",
    "df"
   ]
  },
  {
   "cell_type": "code",
   "execution_count": 21,
   "metadata": {},
   "outputs": [],
   "source": [
    "df= df[df[\"Новая цена\"] < 100000] #Исключили выбросы которые видны на графиках"
   ]
  },
  {
   "cell_type": "markdown",
   "metadata": {},
   "source": [
    "## 3. Кластерный анализ"
   ]
  },
  {
   "cell_type": "markdown",
   "metadata": {},
   "source": [
    "Перейдем к класстерном анализу.  Категориальные данные уже преобразованы, незначащие столбцы отброшены."
   ]
  },
  {
   "cell_type": "code",
   "execution_count": 22,
   "metadata": {},
   "outputs": [
    {
     "data": {
      "text/html": [
       "<div>\n",
       "<style scoped>\n",
       "    .dataframe tbody tr th:only-of-type {\n",
       "        vertical-align: middle;\n",
       "    }\n",
       "\n",
       "    .dataframe tbody tr th {\n",
       "        vertical-align: top;\n",
       "    }\n",
       "\n",
       "    .dataframe thead th {\n",
       "        text-align: right;\n",
       "    }\n",
       "</style>\n",
       "<table border=\"1\" class=\"dataframe\">\n",
       "  <thead>\n",
       "    <tr style=\"text-align: right;\">\n",
       "      <th></th>\n",
       "      <th>Новая цена</th>\n",
       "      <th>Старая цена</th>\n",
       "      <th>Москва</th>\n",
       "      <th>Санкт-Петербург</th>\n",
       "      <th>Аксессуары для кормления</th>\n",
       "      <th>Безопасность ребенка</th>\n",
       "      <th>Гигиена и здоровье</th>\n",
       "      <th>Детская мебель</th>\n",
       "      <th>Детская обувь</th>\n",
       "      <th>Детская одежда</th>\n",
       "      <th>...</th>\n",
       "      <th>Детское питание</th>\n",
       "      <th>Зимние товары</th>\n",
       "      <th>Книжки</th>\n",
       "      <th>Купание малыша</th>\n",
       "      <th>Летние товары</th>\n",
       "      <th>Постельные принадлежности</th>\n",
       "      <th>Развитие и школа</th>\n",
       "      <th>Спорт и отдых</th>\n",
       "      <th>Творчество и хобби</th>\n",
       "      <th>Товары для мамы</th>\n",
       "    </tr>\n",
       "  </thead>\n",
       "  <tbody>\n",
       "    <tr>\n",
       "      <th>0</th>\n",
       "      <td>0.0</td>\n",
       "      <td>0.0</td>\n",
       "      <td>0.0</td>\n",
       "      <td>1.0</td>\n",
       "      <td>0.0</td>\n",
       "      <td>0.0</td>\n",
       "      <td>0.0</td>\n",
       "      <td>0.0</td>\n",
       "      <td>0.0</td>\n",
       "      <td>1.0</td>\n",
       "      <td>...</td>\n",
       "      <td>0.0</td>\n",
       "      <td>0.0</td>\n",
       "      <td>0.0</td>\n",
       "      <td>0.0</td>\n",
       "      <td>0.0</td>\n",
       "      <td>0.0</td>\n",
       "      <td>0.0</td>\n",
       "      <td>0.0</td>\n",
       "      <td>0.0</td>\n",
       "      <td>0.0</td>\n",
       "    </tr>\n",
       "    <tr>\n",
       "      <th>1</th>\n",
       "      <td>0.0</td>\n",
       "      <td>0.0</td>\n",
       "      <td>0.0</td>\n",
       "      <td>1.0</td>\n",
       "      <td>0.0</td>\n",
       "      <td>0.0</td>\n",
       "      <td>0.0</td>\n",
       "      <td>0.0</td>\n",
       "      <td>0.0</td>\n",
       "      <td>0.0</td>\n",
       "      <td>...</td>\n",
       "      <td>0.0</td>\n",
       "      <td>0.0</td>\n",
       "      <td>0.0</td>\n",
       "      <td>0.0</td>\n",
       "      <td>0.0</td>\n",
       "      <td>0.0</td>\n",
       "      <td>0.0</td>\n",
       "      <td>0.0</td>\n",
       "      <td>0.0</td>\n",
       "      <td>0.0</td>\n",
       "    </tr>\n",
       "    <tr>\n",
       "      <th>2</th>\n",
       "      <td>0.0</td>\n",
       "      <td>0.0</td>\n",
       "      <td>0.0</td>\n",
       "      <td>1.0</td>\n",
       "      <td>0.0</td>\n",
       "      <td>0.0</td>\n",
       "      <td>0.0</td>\n",
       "      <td>0.0</td>\n",
       "      <td>0.0</td>\n",
       "      <td>1.0</td>\n",
       "      <td>...</td>\n",
       "      <td>0.0</td>\n",
       "      <td>0.0</td>\n",
       "      <td>0.0</td>\n",
       "      <td>0.0</td>\n",
       "      <td>0.0</td>\n",
       "      <td>0.0</td>\n",
       "      <td>0.0</td>\n",
       "      <td>0.0</td>\n",
       "      <td>0.0</td>\n",
       "      <td>0.0</td>\n",
       "    </tr>\n",
       "    <tr>\n",
       "      <th>3</th>\n",
       "      <td>0.0</td>\n",
       "      <td>0.0</td>\n",
       "      <td>0.0</td>\n",
       "      <td>1.0</td>\n",
       "      <td>0.0</td>\n",
       "      <td>0.0</td>\n",
       "      <td>0.0</td>\n",
       "      <td>0.0</td>\n",
       "      <td>0.0</td>\n",
       "      <td>1.0</td>\n",
       "      <td>...</td>\n",
       "      <td>0.0</td>\n",
       "      <td>0.0</td>\n",
       "      <td>0.0</td>\n",
       "      <td>0.0</td>\n",
       "      <td>0.0</td>\n",
       "      <td>0.0</td>\n",
       "      <td>0.0</td>\n",
       "      <td>0.0</td>\n",
       "      <td>0.0</td>\n",
       "      <td>0.0</td>\n",
       "    </tr>\n",
       "    <tr>\n",
       "      <th>4</th>\n",
       "      <td>0.0</td>\n",
       "      <td>0.0</td>\n",
       "      <td>1.0</td>\n",
       "      <td>0.0</td>\n",
       "      <td>0.0</td>\n",
       "      <td>0.0</td>\n",
       "      <td>0.0</td>\n",
       "      <td>0.0</td>\n",
       "      <td>0.0</td>\n",
       "      <td>1.0</td>\n",
       "      <td>...</td>\n",
       "      <td>0.0</td>\n",
       "      <td>0.0</td>\n",
       "      <td>0.0</td>\n",
       "      <td>0.0</td>\n",
       "      <td>0.0</td>\n",
       "      <td>0.0</td>\n",
       "      <td>0.0</td>\n",
       "      <td>0.0</td>\n",
       "      <td>0.0</td>\n",
       "      <td>0.0</td>\n",
       "    </tr>\n",
       "    <tr>\n",
       "      <th>...</th>\n",
       "      <td>...</td>\n",
       "      <td>...</td>\n",
       "      <td>...</td>\n",
       "      <td>...</td>\n",
       "      <td>...</td>\n",
       "      <td>...</td>\n",
       "      <td>...</td>\n",
       "      <td>...</td>\n",
       "      <td>...</td>\n",
       "      <td>...</td>\n",
       "      <td>...</td>\n",
       "      <td>...</td>\n",
       "      <td>...</td>\n",
       "      <td>...</td>\n",
       "      <td>...</td>\n",
       "      <td>...</td>\n",
       "      <td>...</td>\n",
       "      <td>...</td>\n",
       "      <td>...</td>\n",
       "      <td>...</td>\n",
       "      <td>...</td>\n",
       "    </tr>\n",
       "    <tr>\n",
       "      <th>14995</th>\n",
       "      <td>0.0</td>\n",
       "      <td>0.0</td>\n",
       "      <td>0.0</td>\n",
       "      <td>1.0</td>\n",
       "      <td>0.0</td>\n",
       "      <td>0.0</td>\n",
       "      <td>0.0</td>\n",
       "      <td>0.0</td>\n",
       "      <td>0.0</td>\n",
       "      <td>0.0</td>\n",
       "      <td>...</td>\n",
       "      <td>0.0</td>\n",
       "      <td>0.0</td>\n",
       "      <td>0.0</td>\n",
       "      <td>0.0</td>\n",
       "      <td>0.0</td>\n",
       "      <td>0.0</td>\n",
       "      <td>0.0</td>\n",
       "      <td>0.0</td>\n",
       "      <td>0.0</td>\n",
       "      <td>0.0</td>\n",
       "    </tr>\n",
       "    <tr>\n",
       "      <th>14996</th>\n",
       "      <td>0.0</td>\n",
       "      <td>0.0</td>\n",
       "      <td>0.0</td>\n",
       "      <td>1.0</td>\n",
       "      <td>0.0</td>\n",
       "      <td>0.0</td>\n",
       "      <td>0.0</td>\n",
       "      <td>0.0</td>\n",
       "      <td>0.0</td>\n",
       "      <td>0.0</td>\n",
       "      <td>...</td>\n",
       "      <td>0.0</td>\n",
       "      <td>0.0</td>\n",
       "      <td>0.0</td>\n",
       "      <td>0.0</td>\n",
       "      <td>0.0</td>\n",
       "      <td>0.0</td>\n",
       "      <td>1.0</td>\n",
       "      <td>0.0</td>\n",
       "      <td>0.0</td>\n",
       "      <td>0.0</td>\n",
       "    </tr>\n",
       "    <tr>\n",
       "      <th>14997</th>\n",
       "      <td>0.0</td>\n",
       "      <td>0.0</td>\n",
       "      <td>1.0</td>\n",
       "      <td>0.0</td>\n",
       "      <td>0.0</td>\n",
       "      <td>0.0</td>\n",
       "      <td>0.0</td>\n",
       "      <td>0.0</td>\n",
       "      <td>0.0</td>\n",
       "      <td>0.0</td>\n",
       "      <td>...</td>\n",
       "      <td>0.0</td>\n",
       "      <td>0.0</td>\n",
       "      <td>0.0</td>\n",
       "      <td>0.0</td>\n",
       "      <td>0.0</td>\n",
       "      <td>0.0</td>\n",
       "      <td>1.0</td>\n",
       "      <td>0.0</td>\n",
       "      <td>0.0</td>\n",
       "      <td>0.0</td>\n",
       "    </tr>\n",
       "    <tr>\n",
       "      <th>14998</th>\n",
       "      <td>0.0</td>\n",
       "      <td>0.0</td>\n",
       "      <td>1.0</td>\n",
       "      <td>0.0</td>\n",
       "      <td>0.0</td>\n",
       "      <td>0.0</td>\n",
       "      <td>0.0</td>\n",
       "      <td>0.0</td>\n",
       "      <td>0.0</td>\n",
       "      <td>0.0</td>\n",
       "      <td>...</td>\n",
       "      <td>0.0</td>\n",
       "      <td>0.0</td>\n",
       "      <td>0.0</td>\n",
       "      <td>0.0</td>\n",
       "      <td>0.0</td>\n",
       "      <td>0.0</td>\n",
       "      <td>0.0</td>\n",
       "      <td>0.0</td>\n",
       "      <td>1.0</td>\n",
       "      <td>0.0</td>\n",
       "    </tr>\n",
       "    <tr>\n",
       "      <th>14999</th>\n",
       "      <td>0.0</td>\n",
       "      <td>0.0</td>\n",
       "      <td>0.0</td>\n",
       "      <td>1.0</td>\n",
       "      <td>0.0</td>\n",
       "      <td>0.0</td>\n",
       "      <td>0.0</td>\n",
       "      <td>0.0</td>\n",
       "      <td>0.0</td>\n",
       "      <td>0.0</td>\n",
       "      <td>...</td>\n",
       "      <td>0.0</td>\n",
       "      <td>0.0</td>\n",
       "      <td>0.0</td>\n",
       "      <td>0.0</td>\n",
       "      <td>0.0</td>\n",
       "      <td>0.0</td>\n",
       "      <td>0.0</td>\n",
       "      <td>1.0</td>\n",
       "      <td>0.0</td>\n",
       "      <td>0.0</td>\n",
       "    </tr>\n",
       "  </tbody>\n",
       "</table>\n",
       "<p>15000 rows × 24 columns</p>\n",
       "</div>"
      ],
      "text/plain": [
       "       Новая цена  Старая цена  Москва  Санкт-Петербург  \\\n",
       "0             0.0          0.0     0.0              1.0   \n",
       "1             0.0          0.0     0.0              1.0   \n",
       "2             0.0          0.0     0.0              1.0   \n",
       "3             0.0          0.0     0.0              1.0   \n",
       "4             0.0          0.0     1.0              0.0   \n",
       "...           ...          ...     ...              ...   \n",
       "14995         0.0          0.0     0.0              1.0   \n",
       "14996         0.0          0.0     0.0              1.0   \n",
       "14997         0.0          0.0     1.0              0.0   \n",
       "14998         0.0          0.0     1.0              0.0   \n",
       "14999         0.0          0.0     0.0              1.0   \n",
       "\n",
       "       Аксессуары для кормления  Безопасность ребенка  Гигиена и здоровье  \\\n",
       "0                           0.0                   0.0                 0.0   \n",
       "1                           0.0                   0.0                 0.0   \n",
       "2                           0.0                   0.0                 0.0   \n",
       "3                           0.0                   0.0                 0.0   \n",
       "4                           0.0                   0.0                 0.0   \n",
       "...                         ...                   ...                 ...   \n",
       "14995                       0.0                   0.0                 0.0   \n",
       "14996                       0.0                   0.0                 0.0   \n",
       "14997                       0.0                   0.0                 0.0   \n",
       "14998                       0.0                   0.0                 0.0   \n",
       "14999                       0.0                   0.0                 0.0   \n",
       "\n",
       "       Детская мебель  Детская обувь  Детская одежда  ...  Детское питание  \\\n",
       "0                 0.0            0.0             1.0  ...              0.0   \n",
       "1                 0.0            0.0             0.0  ...              0.0   \n",
       "2                 0.0            0.0             1.0  ...              0.0   \n",
       "3                 0.0            0.0             1.0  ...              0.0   \n",
       "4                 0.0            0.0             1.0  ...              0.0   \n",
       "...               ...            ...             ...  ...              ...   \n",
       "14995             0.0            0.0             0.0  ...              0.0   \n",
       "14996             0.0            0.0             0.0  ...              0.0   \n",
       "14997             0.0            0.0             0.0  ...              0.0   \n",
       "14998             0.0            0.0             0.0  ...              0.0   \n",
       "14999             0.0            0.0             0.0  ...              0.0   \n",
       "\n",
       "       Зимние товары  Книжки  Купание малыша  Летние товары  \\\n",
       "0                0.0     0.0             0.0            0.0   \n",
       "1                0.0     0.0             0.0            0.0   \n",
       "2                0.0     0.0             0.0            0.0   \n",
       "3                0.0     0.0             0.0            0.0   \n",
       "4                0.0     0.0             0.0            0.0   \n",
       "...              ...     ...             ...            ...   \n",
       "14995            0.0     0.0             0.0            0.0   \n",
       "14996            0.0     0.0             0.0            0.0   \n",
       "14997            0.0     0.0             0.0            0.0   \n",
       "14998            0.0     0.0             0.0            0.0   \n",
       "14999            0.0     0.0             0.0            0.0   \n",
       "\n",
       "       Постельные принадлежности  Развитие и школа  Спорт и отдых  \\\n",
       "0                            0.0               0.0            0.0   \n",
       "1                            0.0               0.0            0.0   \n",
       "2                            0.0               0.0            0.0   \n",
       "3                            0.0               0.0            0.0   \n",
       "4                            0.0               0.0            0.0   \n",
       "...                          ...               ...            ...   \n",
       "14995                        0.0               0.0            0.0   \n",
       "14996                        0.0               1.0            0.0   \n",
       "14997                        0.0               1.0            0.0   \n",
       "14998                        0.0               0.0            0.0   \n",
       "14999                        0.0               0.0            1.0   \n",
       "\n",
       "       Творчество и хобби  Товары для мамы  \n",
       "0                     0.0              0.0  \n",
       "1                     0.0              0.0  \n",
       "2                     0.0              0.0  \n",
       "3                     0.0              0.0  \n",
       "4                     0.0              0.0  \n",
       "...                   ...              ...  \n",
       "14995                 0.0              0.0  \n",
       "14996                 0.0              0.0  \n",
       "14997                 0.0              0.0  \n",
       "14998                 1.0              0.0  \n",
       "14999                 0.0              0.0  \n",
       "\n",
       "[15000 rows x 24 columns]"
      ]
     },
     "execution_count": 22,
     "metadata": {},
     "output_type": "execute_result"
    }
   ],
   "source": [
    "small_df = df[0:15000]\n",
    "norm = preprocessing.MaxAbsScaler()\n",
    "norm.fit(small_df)\n",
    "X_num = norm.transform(small_df)\n",
    "X_num = pd.DataFrame(X_num, index=small_df.index, columns=small_df.columns)\n",
    "X_num"
   ]
  },
  {
   "cell_type": "code",
   "execution_count": 23,
   "metadata": {},
   "outputs": [],
   "source": [
    "link = linkage(X_num, 'ward', 'euclidean')"
   ]
  },
  {
   "cell_type": "code",
   "execution_count": 24,
   "metadata": {},
   "outputs": [
    {
     "data": {
      "text/plain": [
       "array([ 18.19320477,  18.86471281,  18.89058805,  19.39009606,\n",
       "        20.611207  ,  24.16455336,  25.2272396 ,  26.49344875,\n",
       "        27.89767751,  28.58427008,  29.03338854,  30.29528707,\n",
       "        30.49893194,  32.21595195,  39.45587975,  42.48179171,\n",
       "        53.28098679,  54.35216876,  63.97379682, 120.56023161])"
      ]
     },
     "execution_count": 24,
     "metadata": {},
     "output_type": "execute_result"
    }
   ],
   "source": [
    "link[-20:, 2]"
   ]
  },
  {
   "cell_type": "markdown",
   "metadata": {},
   "source": [
    "### Построение дендрограммы"
   ]
  },
  {
   "cell_type": "code",
   "execution_count": 25,
   "metadata": {},
   "outputs": [
    {
     "data": {
      "image/png": "[encoded data removed]",
      "text/plain": [
       "<Figure size 842.4x595.44 with 1 Axes>"
      ]
     },
     "metadata": {
      "needs_background": "light"
     },
     "output_type": "display_data"
    }
   ],
   "source": [
    "matplotlib.rcParams['lines.linewidth'] = 2\n",
    "\n",
    "fig, ax = plt.subplots()\n",
    "fig.set_size_inches(11.7, 8.27)\n",
    "\n",
    "dn = dendrogram(\n",
    "    link,\n",
    "    labels=X_num.index.tolist(),\n",
    "    truncate_mode='lastp',\n",
    ")\n",
    "ax.tick_params(labelsize=13)\n",
    "plt.title('Hierarchical Clustering Dendrogram (truncate)')\n",
    "plt.ylabel('index')\n",
    "plt.xlabel('distance (Ward)')\n",
    "plt.show()"
   ]
  },
  {
   "cell_type": "markdown",
   "metadata": {},
   "source": [
    "### Построение каменистой осыпи"
   ]
  },
  {
   "cell_type": "code",
   "execution_count": 26,
   "metadata": {},
   "outputs": [
    {
     "data": {
      "image/png": "[encoded data removed]",
      "text/plain": [
       "<Figure size 842.4x595.44 with 1 Axes>"
      ]
     },
     "metadata": {
      "needs_background": "light"
     },
     "output_type": "display_data"
    }
   ],
   "source": [
    "dist = link[-30:, 2]\n",
    "dist_rev = dist[::-1]\n",
    "idxs = range(1, len(dist) + 1)\n",
    "\n",
    "fig, ax = plt.subplots()\n",
    "fig.set_size_inches(11.7, 8.27)\n",
    "plt.plot(idxs, dist_rev, marker='o')\n",
    "plt.title('Distance between merged clusters')\n",
    "plt.xlabel('Step')\n",
    "plt.ylabel('Distance')\n",
    "plt.axhline(54, c='g', linestyle='dashed')\n",
    "plt.text(20, 56, '3 clusters', size = 15)\n",
    "plt.xticks(np.arange(min(idxs), max(idxs)+1, 1.0))\n",
    "plt.show()"
   ]
  },
  {
   "cell_type": "markdown",
   "metadata": {},
   "source": [
    "## Кластеризация методом k-means"
   ]
  },
  {
   "cell_type": "code",
   "execution_count": 27,
   "metadata": {},
   "outputs": [
    {
     "data": {
      "image/png": "[encoded data removed]",
      "text/plain": [
       "<Figure size 842.4x595.44 with 1 Axes>"
      ]
     },
     "metadata": {
      "needs_background": "light"
     },
     "output_type": "display_data"
    }
   ],
   "source": [
    "K = range(1, 16)\n",
    "models = [KMeans(n_clusters=k, random_state=42).fit(X_num.iloc[:, :-1]) for k in K]\n",
    "dist = [model.inertia_ for model in models]\n",
    "\n",
    "fig, ax = plt.subplots()\n",
    "fig.set_size_inches(11.7, 8.27)\n",
    "plt.plot(K, dist, marker='o')\n",
    "plt.xlabel('k')\n",
    "plt.ylabel('Sum of distances')\n",
    "plt.axvline(3, c='g', linestyle='dashed')\n",
    "plt.title('The Elbow Method showing the optimal k')\n",
    "plt.show()"
   ]
  },
  {
   "cell_type": "markdown",
   "metadata": {},
   "source": [
    "Исходя из построенных диаграмм, понятно, что логично разбить имеющиеся данные о товарах на 3 кластера"
   ]
  },
  {
   "cell_type": "code",
   "execution_count": 28,
   "metadata": {},
   "outputs": [
    {
     "data": {
      "text/html": [
       "<div>\n",
       "<style scoped>\n",
       "    .dataframe tbody tr th:only-of-type {\n",
       "        vertical-align: middle;\n",
       "    }\n",
       "\n",
       "    .dataframe tbody tr th {\n",
       "        vertical-align: top;\n",
       "    }\n",
       "\n",
       "    .dataframe thead th {\n",
       "        text-align: right;\n",
       "    }\n",
       "</style>\n",
       "<table border=\"1\" class=\"dataframe\">\n",
       "  <thead>\n",
       "    <tr style=\"text-align: right;\">\n",
       "      <th></th>\n",
       "      <th>Новая цена</th>\n",
       "      <th>Старая цена</th>\n",
       "      <th>Москва</th>\n",
       "      <th>Санкт-Петербург</th>\n",
       "      <th>Аксессуары для кормления</th>\n",
       "      <th>Безопасность ребенка</th>\n",
       "      <th>Гигиена и здоровье</th>\n",
       "      <th>Детская мебель</th>\n",
       "      <th>Детская обувь</th>\n",
       "      <th>Детская одежда</th>\n",
       "      <th>...</th>\n",
       "      <th>Детское питание</th>\n",
       "      <th>Зимние товары</th>\n",
       "      <th>Книжки</th>\n",
       "      <th>Купание малыша</th>\n",
       "      <th>Летние товары</th>\n",
       "      <th>Постельные принадлежности</th>\n",
       "      <th>Развитие и школа</th>\n",
       "      <th>Спорт и отдых</th>\n",
       "      <th>Творчество и хобби</th>\n",
       "      <th>Товары для мамы</th>\n",
       "    </tr>\n",
       "    <tr>\n",
       "      <th>cluster</th>\n",
       "      <th></th>\n",
       "      <th></th>\n",
       "      <th></th>\n",
       "      <th></th>\n",
       "      <th></th>\n",
       "      <th></th>\n",
       "      <th></th>\n",
       "      <th></th>\n",
       "      <th></th>\n",
       "      <th></th>\n",
       "      <th></th>\n",
       "      <th></th>\n",
       "      <th></th>\n",
       "      <th></th>\n",
       "      <th></th>\n",
       "      <th></th>\n",
       "      <th></th>\n",
       "      <th></th>\n",
       "      <th></th>\n",
       "      <th></th>\n",
       "      <th></th>\n",
       "    </tr>\n",
       "  </thead>\n",
       "  <tbody>\n",
       "    <tr>\n",
       "      <th>0</th>\n",
       "      <td>0.0</td>\n",
       "      <td>0.0</td>\n",
       "      <td>0.0</td>\n",
       "      <td>1.0</td>\n",
       "      <td>0.0</td>\n",
       "      <td>0.0</td>\n",
       "      <td>0.1</td>\n",
       "      <td>0.1</td>\n",
       "      <td>0.0</td>\n",
       "      <td>0.0</td>\n",
       "      <td>...</td>\n",
       "      <td>0.0</td>\n",
       "      <td>0.0</td>\n",
       "      <td>0.1</td>\n",
       "      <td>0.0</td>\n",
       "      <td>0.0</td>\n",
       "      <td>0.2</td>\n",
       "      <td>0.1</td>\n",
       "      <td>0.0</td>\n",
       "      <td>0.1</td>\n",
       "      <td>0.0</td>\n",
       "    </tr>\n",
       "    <tr>\n",
       "      <th>1</th>\n",
       "      <td>0.0</td>\n",
       "      <td>0.0</td>\n",
       "      <td>1.0</td>\n",
       "      <td>0.0</td>\n",
       "      <td>0.0</td>\n",
       "      <td>0.0</td>\n",
       "      <td>0.0</td>\n",
       "      <td>0.1</td>\n",
       "      <td>0.0</td>\n",
       "      <td>0.3</td>\n",
       "      <td>...</td>\n",
       "      <td>0.0</td>\n",
       "      <td>0.0</td>\n",
       "      <td>0.0</td>\n",
       "      <td>0.0</td>\n",
       "      <td>0.0</td>\n",
       "      <td>0.1</td>\n",
       "      <td>0.1</td>\n",
       "      <td>0.0</td>\n",
       "      <td>0.1</td>\n",
       "      <td>0.0</td>\n",
       "    </tr>\n",
       "    <tr>\n",
       "      <th>2</th>\n",
       "      <td>0.0</td>\n",
       "      <td>0.0</td>\n",
       "      <td>0.0</td>\n",
       "      <td>1.0</td>\n",
       "      <td>0.0</td>\n",
       "      <td>0.0</td>\n",
       "      <td>0.0</td>\n",
       "      <td>0.0</td>\n",
       "      <td>0.0</td>\n",
       "      <td>1.0</td>\n",
       "      <td>...</td>\n",
       "      <td>0.0</td>\n",
       "      <td>0.0</td>\n",
       "      <td>0.0</td>\n",
       "      <td>0.0</td>\n",
       "      <td>0.0</td>\n",
       "      <td>0.0</td>\n",
       "      <td>0.0</td>\n",
       "      <td>0.0</td>\n",
       "      <td>0.0</td>\n",
       "      <td>0.0</td>\n",
       "    </tr>\n",
       "  </tbody>\n",
       "</table>\n",
       "<p>3 rows × 24 columns</p>\n",
       "</div>"
      ],
      "text/plain": [
       "         Новая цена  Старая цена  Москва  Санкт-Петербург  \\\n",
       "cluster                                                     \n",
       "0               0.0          0.0     0.0              1.0   \n",
       "1               0.0          0.0     1.0              0.0   \n",
       "2               0.0          0.0     0.0              1.0   \n",
       "\n",
       "         Аксессуары для кормления  Безопасность ребенка  Гигиена и здоровье  \\\n",
       "cluster                                                                       \n",
       "0                             0.0                   0.0                 0.1   \n",
       "1                             0.0                   0.0                 0.0   \n",
       "2                             0.0                   0.0                 0.0   \n",
       "\n",
       "         Детская мебель  Детская обувь  Детская одежда  ...  Детское питание  \\\n",
       "cluster                                                 ...                    \n",
       "0                   0.1            0.0             0.0  ...              0.0   \n",
       "1                   0.1            0.0             0.3  ...              0.0   \n",
       "2                   0.0            0.0             1.0  ...              0.0   \n",
       "\n",
       "         Зимние товары  Книжки  Купание малыша  Летние товары  \\\n",
       "cluster                                                         \n",
       "0                  0.0     0.1             0.0            0.0   \n",
       "1                  0.0     0.0             0.0            0.0   \n",
       "2                  0.0     0.0             0.0            0.0   \n",
       "\n",
       "         Постельные принадлежности  Развитие и школа  Спорт и отдых  \\\n",
       "cluster                                                               \n",
       "0                              0.2               0.1            0.0   \n",
       "1                              0.1               0.1            0.0   \n",
       "2                              0.0               0.0            0.0   \n",
       "\n",
       "         Творчество и хобби  Товары для мамы  \n",
       "cluster                                       \n",
       "0                       0.1              0.0  \n",
       "1                       0.1              0.0  \n",
       "2                       0.0              0.0  \n",
       "\n",
       "[3 rows x 24 columns]"
      ]
     },
     "execution_count": 28,
     "metadata": {},
     "output_type": "execute_result"
    }
   ],
   "source": [
    "model = KMeans(n_clusters=3, random_state=42)\n",
    "model.fit(X_num)\n",
    "X_num['cluster'] = model.labels_\n",
    "X_num.groupby('cluster').mean()# кластеры являются комбинацией перестановок группы товаров и города"
   ]
  },
  {
   "cell_type": "code",
   "execution_count": 29,
   "metadata": {},
   "outputs": [
    {
     "data": {
      "text/plain": [
       "cluster\n",
       "0    6439\n",
       "1    6074\n",
       "2    2487\n",
       "dtype: int64"
      ]
     },
     "execution_count": 29,
     "metadata": {},
     "output_type": "execute_result"
    }
   ],
   "source": [
    "X_num.groupby('cluster').size()"
   ]
  },
  {
   "cell_type": "code",
   "execution_count": 30,
   "metadata": {},
   "outputs": [
    {
     "ename": "TypeError",
     "evalue": "no numeric data to plot",
     "output_type": "error",
     "traceback": [
      "\u001b[1;31m---------------------------------------------------------------------------\u001b[0m",
      "\u001b[1;31mTypeError\u001b[0m                                 Traceback (most recent call last)",
      "\u001b[1;32m<ipython-input-30-8324bfc5f6c9>\u001b[0m in \u001b[0;36m<module>\u001b[1;34m\u001b[0m\n\u001b[0;32m      8\u001b[0m         \u001b[0max\u001b[0m \u001b[1;33m=\u001b[0m \u001b[0maxs\u001b[0m\u001b[1;33m[\u001b[0m\u001b[0mi\u001b[0m\u001b[1;33m,\u001b[0m \u001b[0mj\u001b[0m\u001b[1;33m]\u001b[0m\u001b[1;33m\u001b[0m\u001b[1;33m\u001b[0m\u001b[0m\n\u001b[0;32m      9\u001b[0m         \u001b[0mk\u001b[0m \u001b[1;33m+=\u001b[0m \u001b[1;36m1\u001b[0m\u001b[1;33m\u001b[0m\u001b[1;33m\u001b[0m\u001b[0m\n\u001b[1;32m---> 10\u001b[1;33m         \u001b[0mX_num\u001b[0m\u001b[1;33m[\u001b[0m\u001b[0mX_num\u001b[0m\u001b[1;33m.\u001b[0m\u001b[0mcluster\u001b[0m \u001b[1;33m==\u001b[0m \u001b[0mk\u001b[0m\u001b[1;33m-\u001b[0m\u001b[1;36m1\u001b[0m\u001b[1;33m]\u001b[0m\u001b[1;33m.\u001b[0m\u001b[0mgroupby\u001b[0m\u001b[1;33m(\u001b[0m\u001b[1;34m'cluster'\u001b[0m\u001b[1;33m)\u001b[0m\u001b[1;33m.\u001b[0m\u001b[0mmean\u001b[0m\u001b[1;33m(\u001b[0m\u001b[1;33m)\u001b[0m\u001b[1;33m.\u001b[0m\u001b[0mT\u001b[0m\u001b[1;33m.\u001b[0m\u001b[0mplot\u001b[0m\u001b[1;33m.\u001b[0m\u001b[0mbarh\u001b[0m\u001b[1;33m(\u001b[0m\u001b[0max\u001b[0m \u001b[1;33m=\u001b[0m \u001b[0max\u001b[0m\u001b[1;33m,\u001b[0m \u001b[0mcolor\u001b[0m \u001b[1;33m=\u001b[0m \u001b[0mc\u001b[0m\u001b[1;33m[\u001b[0m\u001b[0mk\u001b[0m\u001b[1;33m-\u001b[0m\u001b[1;36m1\u001b[0m\u001b[1;33m]\u001b[0m\u001b[1;33m)\u001b[0m\u001b[1;33m\u001b[0m\u001b[1;33m\u001b[0m\u001b[0m\n\u001b[0m\u001b[0;32m     11\u001b[0m         \u001b[0max\u001b[0m\u001b[1;33m.\u001b[0m\u001b[0mtick_params\u001b[0m\u001b[1;33m(\u001b[0m\u001b[0mlabelsize\u001b[0m \u001b[1;33m=\u001b[0m \u001b[1;36m11\u001b[0m\u001b[1;33m)\u001b[0m\u001b[1;33m\u001b[0m\u001b[1;33m\u001b[0m\u001b[0m\n",
      "\u001b[1;32m~\\anaconda3\\lib\\site-packages\\pandas\\plotting\\_core.py\u001b[0m in \u001b[0;36mbarh\u001b[1;34m(self, x, y, **kwargs)\u001b[0m\n\u001b[0;32m   1081\u001b[0m             \u001b[1;33m>>\u001b[0m\u001b[1;33m>\u001b[0m \u001b[0max\u001b[0m \u001b[1;33m=\u001b[0m \u001b[0mdf\u001b[0m\u001b[1;33m.\u001b[0m\u001b[0mplot\u001b[0m\u001b[1;33m.\u001b[0m\u001b[0mbarh\u001b[0m\u001b[1;33m(\u001b[0m\u001b[0mx\u001b[0m\u001b[1;33m=\u001b[0m\u001b[1;34m'lifespan'\u001b[0m\u001b[1;33m)\u001b[0m\u001b[1;33m\u001b[0m\u001b[1;33m\u001b[0m\u001b[0m\n\u001b[0;32m   1082\u001b[0m         \"\"\"\n\u001b[1;32m-> 1083\u001b[1;33m         \u001b[1;32mreturn\u001b[0m \u001b[0mself\u001b[0m\u001b[1;33m(\u001b[0m\u001b[0mkind\u001b[0m\u001b[1;33m=\u001b[0m\u001b[1;34m\"barh\"\u001b[0m\u001b[1;33m,\u001b[0m \u001b[0mx\u001b[0m\u001b[1;33m=\u001b[0m\u001b[0mx\u001b[0m\u001b[1;33m,\u001b[0m \u001b[0my\u001b[0m\u001b[1;33m=\u001b[0m\u001b[0my\u001b[0m\u001b[1;33m,\u001b[0m \u001b[1;33m**\u001b[0m\u001b[0mkwargs\u001b[0m\u001b[1;33m)\u001b[0m\u001b[1;33m\u001b[0m\u001b[1;33m\u001b[0m\u001b[0m\n\u001b[0m\u001b[0;32m   1084\u001b[0m \u001b[1;33m\u001b[0m\u001b[0m\n\u001b[0;32m   1085\u001b[0m     \u001b[1;32mdef\u001b[0m \u001b[0mbox\u001b[0m\u001b[1;33m(\u001b[0m\u001b[0mself\u001b[0m\u001b[1;33m,\u001b[0m \u001b[0mby\u001b[0m\u001b[1;33m=\u001b[0m\u001b[1;32mNone\u001b[0m\u001b[1;33m,\u001b[0m \u001b[1;33m**\u001b[0m\u001b[0mkwargs\u001b[0m\u001b[1;33m)\u001b[0m\u001b[1;33m:\u001b[0m\u001b[1;33m\u001b[0m\u001b[1;33m\u001b[0m\u001b[0m\n",
      "\u001b[1;32m~\\anaconda3\\lib\\site-packages\\pandas\\plotting\\_core.py\u001b[0m in \u001b[0;36m__call__\u001b[1;34m(self, *args, **kwargs)\u001b[0m\n\u001b[0;32m    845\u001b[0m                     \u001b[0mdata\u001b[0m\u001b[1;33m.\u001b[0m\u001b[0mcolumns\u001b[0m \u001b[1;33m=\u001b[0m \u001b[0mlabel_name\u001b[0m\u001b[1;33m\u001b[0m\u001b[1;33m\u001b[0m\u001b[0m\n\u001b[0;32m    846\u001b[0m \u001b[1;33m\u001b[0m\u001b[0m\n\u001b[1;32m--> 847\u001b[1;33m         \u001b[1;32mreturn\u001b[0m \u001b[0mplot_backend\u001b[0m\u001b[1;33m.\u001b[0m\u001b[0mplot\u001b[0m\u001b[1;33m(\u001b[0m\u001b[0mdata\u001b[0m\u001b[1;33m,\u001b[0m \u001b[0mkind\u001b[0m\u001b[1;33m=\u001b[0m\u001b[0mkind\u001b[0m\u001b[1;33m,\u001b[0m \u001b[1;33m**\u001b[0m\u001b[0mkwargs\u001b[0m\u001b[1;33m)\u001b[0m\u001b[1;33m\u001b[0m\u001b[1;33m\u001b[0m\u001b[0m\n\u001b[0m\u001b[0;32m    848\u001b[0m \u001b[1;33m\u001b[0m\u001b[0m\n\u001b[0;32m    849\u001b[0m     \u001b[0m__call__\u001b[0m\u001b[1;33m.\u001b[0m\u001b[0m__doc__\u001b[0m \u001b[1;33m=\u001b[0m \u001b[0m__doc__\u001b[0m\u001b[1;33m\u001b[0m\u001b[1;33m\u001b[0m\u001b[0m\n",
      "\u001b[1;32m~\\anaconda3\\lib\\site-packages\\pandas\\plotting\\_matplotlib\\__init__.py\u001b[0m in \u001b[0;36mplot\u001b[1;34m(data, kind, **kwargs)\u001b[0m\n\u001b[0;32m     59\u001b[0m             \u001b[0mkwargs\u001b[0m\u001b[1;33m[\u001b[0m\u001b[1;34m\"ax\"\u001b[0m\u001b[1;33m]\u001b[0m \u001b[1;33m=\u001b[0m \u001b[0mgetattr\u001b[0m\u001b[1;33m(\u001b[0m\u001b[0max\u001b[0m\u001b[1;33m,\u001b[0m \u001b[1;34m\"left_ax\"\u001b[0m\u001b[1;33m,\u001b[0m \u001b[0max\u001b[0m\u001b[1;33m)\u001b[0m\u001b[1;33m\u001b[0m\u001b[1;33m\u001b[0m\u001b[0m\n\u001b[0;32m     60\u001b[0m     \u001b[0mplot_obj\u001b[0m \u001b[1;33m=\u001b[0m \u001b[0mPLOT_CLASSES\u001b[0m\u001b[1;33m[\u001b[0m\u001b[0mkind\u001b[0m\u001b[1;33m]\u001b[0m\u001b[1;33m(\u001b[0m\u001b[0mdata\u001b[0m\u001b[1;33m,\u001b[0m \u001b[1;33m**\u001b[0m\u001b[0mkwargs\u001b[0m\u001b[1;33m)\u001b[0m\u001b[1;33m\u001b[0m\u001b[1;33m\u001b[0m\u001b[0m\n\u001b[1;32m---> 61\u001b[1;33m     \u001b[0mplot_obj\u001b[0m\u001b[1;33m.\u001b[0m\u001b[0mgenerate\u001b[0m\u001b[1;33m(\u001b[0m\u001b[1;33m)\u001b[0m\u001b[1;33m\u001b[0m\u001b[1;33m\u001b[0m\u001b[0m\n\u001b[0m\u001b[0;32m     62\u001b[0m     \u001b[0mplot_obj\u001b[0m\u001b[1;33m.\u001b[0m\u001b[0mdraw\u001b[0m\u001b[1;33m(\u001b[0m\u001b[1;33m)\u001b[0m\u001b[1;33m\u001b[0m\u001b[1;33m\u001b[0m\u001b[0m\n\u001b[0;32m     63\u001b[0m     \u001b[1;32mreturn\u001b[0m \u001b[0mplot_obj\u001b[0m\u001b[1;33m.\u001b[0m\u001b[0mresult\u001b[0m\u001b[1;33m\u001b[0m\u001b[1;33m\u001b[0m\u001b[0m\n",
      "\u001b[1;32m~\\anaconda3\\lib\\site-packages\\pandas\\plotting\\_matplotlib\\core.py\u001b[0m in \u001b[0;36mgenerate\u001b[1;34m(self)\u001b[0m\n\u001b[0;32m    259\u001b[0m     \u001b[1;32mdef\u001b[0m \u001b[0mgenerate\u001b[0m\u001b[1;33m(\u001b[0m\u001b[0mself\u001b[0m\u001b[1;33m)\u001b[0m\u001b[1;33m:\u001b[0m\u001b[1;33m\u001b[0m\u001b[1;33m\u001b[0m\u001b[0m\n\u001b[0;32m    260\u001b[0m         \u001b[0mself\u001b[0m\u001b[1;33m.\u001b[0m\u001b[0m_args_adjust\u001b[0m\u001b[1;33m(\u001b[0m\u001b[1;33m)\u001b[0m\u001b[1;33m\u001b[0m\u001b[1;33m\u001b[0m\u001b[0m\n\u001b[1;32m--> 261\u001b[1;33m         \u001b[0mself\u001b[0m\u001b[1;33m.\u001b[0m\u001b[0m_compute_plot_data\u001b[0m\u001b[1;33m(\u001b[0m\u001b[1;33m)\u001b[0m\u001b[1;33m\u001b[0m\u001b[1;33m\u001b[0m\u001b[0m\n\u001b[0m\u001b[0;32m    262\u001b[0m         \u001b[0mself\u001b[0m\u001b[1;33m.\u001b[0m\u001b[0m_setup_subplots\u001b[0m\u001b[1;33m(\u001b[0m\u001b[1;33m)\u001b[0m\u001b[1;33m\u001b[0m\u001b[1;33m\u001b[0m\u001b[0m\n\u001b[0;32m    263\u001b[0m         \u001b[0mself\u001b[0m\u001b[1;33m.\u001b[0m\u001b[0m_make_plot\u001b[0m\u001b[1;33m(\u001b[0m\u001b[1;33m)\u001b[0m\u001b[1;33m\u001b[0m\u001b[1;33m\u001b[0m\u001b[0m\n",
      "\u001b[1;32m~\\anaconda3\\lib\\site-packages\\pandas\\plotting\\_matplotlib\\core.py\u001b[0m in \u001b[0;36m_compute_plot_data\u001b[1;34m(self)\u001b[0m\n\u001b[0;32m    408\u001b[0m         \u001b[1;31m# no non-numeric frames or series allowed\u001b[0m\u001b[1;33m\u001b[0m\u001b[1;33m\u001b[0m\u001b[1;33m\u001b[0m\u001b[0m\n\u001b[0;32m    409\u001b[0m         \u001b[1;32mif\u001b[0m \u001b[0mis_empty\u001b[0m\u001b[1;33m:\u001b[0m\u001b[1;33m\u001b[0m\u001b[1;33m\u001b[0m\u001b[0m\n\u001b[1;32m--> 410\u001b[1;33m             \u001b[1;32mraise\u001b[0m \u001b[0mTypeError\u001b[0m\u001b[1;33m(\u001b[0m\u001b[1;34m\"no numeric data to plot\"\u001b[0m\u001b[1;33m)\u001b[0m\u001b[1;33m\u001b[0m\u001b[1;33m\u001b[0m\u001b[0m\n\u001b[0m\u001b[0;32m    411\u001b[0m \u001b[1;33m\u001b[0m\u001b[0m\n\u001b[0;32m    412\u001b[0m         \u001b[1;31m# GH25587: cast ExtensionArray of pandas (IntegerArray, etc.) to\u001b[0m\u001b[1;33m\u001b[0m\u001b[1;33m\u001b[0m\u001b[1;33m\u001b[0m\u001b[0m\n",
      "\u001b[1;31mTypeError\u001b[0m: no numeric data to plot"
     ]
    },
    {
     "data": {
      "image/png": "[encoded data removed]",
      "text/plain": [
       "<Figure size 1058.4x667.44 with 4 Axes>"
      ]
     },
     "metadata": {
      "needs_background": "light"
     },
     "output_type": "display_data"
    }
   ],
   "source": [
    "fig, axs = plt.subplots(nrows=2, ncols=2, sharex=True)\n",
    "fig.set_size_inches(14.7, 9.27)\n",
    "plt.subplots_adjust( wspace=0.625)\n",
    "k = 0\n",
    "c = ['grey', 'violet', 'salmon', 'skyblue', 'orange']\n",
    "for i in range(2):\n",
    "    for j in range(2):\n",
    "        ax = axs[i, j]\n",
    "        k += 1\n",
    "        X_num[X_num.cluster == k-1].groupby('cluster').mean().T.plot.barh(ax = ax, color = c[k-1])\n",
    "        ax.tick_params(labelsize = 11)"
   ]
  },
  {
   "cell_type": "markdown",
   "metadata": {},
   "source": [
    "### Выводы по кластерному анализу \n"
   ]
  },
  {
   "cell_type": "markdown",
   "metadata": {},
   "source": [
    "Кластеры 0, 1, 2 - это машины, которые продают юридические лица. Для них всех важно, чтобы машина была новой. Различаются они только:\n",
    "\n",
    "- Кластер label = 0 - Товары разных категорий из СПБ\n",
    "\n",
    "- Кластер label = 1 - Товары разных категорий из МСК\n",
    "\n",
    "- Кластер label = 2 - Товары категории Детские игрушки и игры из СПБ"
   ]
  },
  {
   "cell_type": "markdown",
   "metadata": {},
   "source": [
    "## Построение регресси новой цены товара по представленным признакам"
   ]
  },
  {
   "cell_type": "markdown",
   "metadata": {},
   "source": [
    "### Линейная регрессия"
   ]
  },
  {
   "cell_type": "code",
   "execution_count": 31,
   "metadata": {},
   "outputs": [],
   "source": [
    "from sklearn.metrics import mean_squared_error\n",
    "from sklearn.model_selection import train_test_split"
   ]
  },
  {
   "cell_type": "code",
   "execution_count": 33,
   "metadata": {
    "scrolled": false
   },
   "outputs": [
    {
     "name": "stdout",
     "output_type": "stream",
     "text": [
      "                            OLS Regression Results                            \n",
      "==============================================================================\n",
      "Dep. Variable:             Новая цена   R-squared:                       0.986\n",
      "Model:                            OLS   Adj. R-squared:                  0.986\n",
      "Method:                 Least Squares   F-statistic:                 9.882e+04\n",
      "Date:                Tue, 09 Jun 2020   Prob (F-statistic):               0.00\n",
      "Time:                        21:22:20   Log-Likelihood:            -2.2242e+05\n",
      "No. Observations:               28757   AIC:                         4.449e+05\n",
      "Df Residuals:                   28735   BIC:                         4.451e+05\n",
      "Df Model:                          21                                         \n",
      "Covariance Type:            nonrobust                                         \n",
      "=============================================================================================\n",
      "                                coef    std err          t      P>|t|      [0.025      0.975]\n",
      "---------------------------------------------------------------------------------------------\n",
      "Старая цена                   0.8124      0.001   1194.345      0.000       0.811       0.814\n",
      "Москва                       69.8859      6.519     10.720      0.000      57.108      82.664\n",
      "Санкт-Петербург              49.0653      7.256      6.762      0.000      34.843      63.287\n",
      "Аксессуары для кормления    -53.3937     24.622     -2.169      0.030    -101.653      -5.134\n",
      "Безопасность ребенка        -23.4670     54.428     -0.431      0.666    -130.149      83.215\n",
      "Гигиена и здоровье          -37.2356     17.892     -2.081      0.037     -72.305      -2.166\n",
      "Детская мебель              254.8149     16.336     15.598      0.000     222.795     286.835\n",
      "Детская обувь              -293.8843     20.437    -14.380      0.000    -333.943    -253.826\n",
      "Детская одежда             -190.2686      8.173    -23.279      0.000    -206.289    -174.248\n",
      "Детские автокресла          324.0875     33.754      9.602      0.000     257.929     390.246\n",
      "Детские игрушки и игры      -65.2878      9.803     -6.660      0.000     -84.503     -46.073\n",
      "Детские коляски             603.8334     24.818     24.330      0.000     555.188     652.478\n",
      "Детский транспорт            48.0336     24.964      1.924      0.054      -0.896      96.964\n",
      "Детское питание              32.8432     37.731      0.870      0.384     -41.111     106.797\n",
      "Зимние товары               -42.2884     31.214     -1.355      0.176    -103.470      18.893\n",
      "Книжки                      -62.6075     16.846     -3.716      0.000     -95.626     -29.589\n",
      "Купание малыша              -26.3677     29.468     -0.895      0.371     -84.126      31.391\n",
      "Летние товары              -287.1333     29.055     -9.882      0.000    -344.082    -230.184\n",
      "Постельные принадлежности   -69.2899     12.013     -5.768      0.000     -92.836     -45.744\n",
      "Развитие и школа             -8.3850     10.009     -0.838      0.402     -28.004      11.234\n",
      "Спорт и отдых                90.9396     25.575      3.556      0.000      40.811     141.069\n",
      "Творчество и хобби          -38.9836     12.905     -3.021      0.003     -64.278     -13.689\n",
      "Товары для мамы             -37.0086     26.816     -1.380      0.168     -89.569      15.551\n",
      "==============================================================================\n",
      "Omnibus:                    38287.473   Durbin-Watson:                   2.002\n",
      "Prob(Omnibus):                  0.000   Jarque-Bera (JB):        125672159.557\n",
      "Skew:                          -6.558   Prob(JB):                         0.00\n",
      "Kurtosis:                     326.591   Cond. No.                     4.15e+19\n",
      "==============================================================================\n",
      "\n",
      "Warnings:\n",
      "[1] Standard Errors assume that the covariance matrix of the errors is correctly specified.\n",
      "[2] The smallest eigenvalue is 6.4e-28. This might indicate that there are\n",
      "strong multicollinearity problems or that the design matrix is singular.\n"
     ]
    }
   ],
   "source": [
    "import statsmodels.api as sm\n",
    "#линейная регрессия\n",
    "y = df['Новая цена']\n",
    "X = df.drop(['Новая цена'],axis = 1)\n",
    "X_train, X_test, y_train, y_test = train_test_split(X, y, train_size=0.8, random_state=20)\n",
    "est = sm.OLS(y_train, X_train)\n",
    "est = est.fit()\n",
    "print(est.summary())"
   ]
  },
  {
   "cell_type": "code",
   "execution_count": 34,
   "metadata": {},
   "outputs": [],
   "source": [
    "def find_prediction_at_instance_for_ols(X_train, params, instance):\n",
    "    return sum([val*X_train[instance, i].sum() for i, val in enumerate(params[:-1])])"
   ]
  },
  {
   "cell_type": "code",
   "execution_count": 35,
   "metadata": {},
   "outputs": [
    {
     "name": "stdout",
     "output_type": "stream",
     "text": [
      "R^2: 0.9863330122295056\n"
     ]
    }
   ],
   "source": [
    "print (f'R^2: {est.rsquared_adj}')"
   ]
  },
  {
   "cell_type": "code",
   "execution_count": 36,
   "metadata": {},
   "outputs": [],
   "source": [
    "pd.set_option('display.float_format', lambda x: '%.4f' % x)"
   ]
  },
  {
   "cell_type": "code",
   "execution_count": 37,
   "metadata": {},
   "outputs": [
    {
     "data": {
      "text/html": [
       "<div>\n",
       "<style scoped>\n",
       "    .dataframe tbody tr th:only-of-type {\n",
       "        vertical-align: middle;\n",
       "    }\n",
       "\n",
       "    .dataframe tbody tr th {\n",
       "        vertical-align: top;\n",
       "    }\n",
       "\n",
       "    .dataframe thead th {\n",
       "        text-align: right;\n",
       "    }\n",
       "</style>\n",
       "<table border=\"1\" class=\"dataframe\">\n",
       "  <thead>\n",
       "    <tr style=\"text-align: right;\">\n",
       "      <th></th>\n",
       "      <th>coefs</th>\n",
       "      <th>p_value</th>\n",
       "    </tr>\n",
       "  </thead>\n",
       "  <tbody>\n",
       "    <tr>\n",
       "      <th>Старая цена</th>\n",
       "      <td>0.8124</td>\n",
       "      <td>0.0000</td>\n",
       "    </tr>\n",
       "    <tr>\n",
       "      <th>Москва</th>\n",
       "      <td>69.8859</td>\n",
       "      <td>0.0000</td>\n",
       "    </tr>\n",
       "    <tr>\n",
       "      <th>Санкт-Петербург</th>\n",
       "      <td>49.0653</td>\n",
       "      <td>0.0000</td>\n",
       "    </tr>\n",
       "    <tr>\n",
       "      <th>Аксессуары для кормления</th>\n",
       "      <td>-53.3937</td>\n",
       "      <td>0.0301</td>\n",
       "    </tr>\n",
       "    <tr>\n",
       "      <th>Безопасность ребенка</th>\n",
       "      <td>-23.4670</td>\n",
       "      <td>0.6664</td>\n",
       "    </tr>\n",
       "    <tr>\n",
       "      <th>Гигиена и здоровье</th>\n",
       "      <td>-37.2356</td>\n",
       "      <td>0.0374</td>\n",
       "    </tr>\n",
       "    <tr>\n",
       "      <th>Детская мебель</th>\n",
       "      <td>254.8149</td>\n",
       "      <td>0.0000</td>\n",
       "    </tr>\n",
       "    <tr>\n",
       "      <th>Детская обувь</th>\n",
       "      <td>-293.8843</td>\n",
       "      <td>0.0000</td>\n",
       "    </tr>\n",
       "    <tr>\n",
       "      <th>Детская одежда</th>\n",
       "      <td>-190.2686</td>\n",
       "      <td>0.0000</td>\n",
       "    </tr>\n",
       "    <tr>\n",
       "      <th>Детские автокресла</th>\n",
       "      <td>324.0875</td>\n",
       "      <td>0.0000</td>\n",
       "    </tr>\n",
       "    <tr>\n",
       "      <th>Детские игрушки и игры</th>\n",
       "      <td>-65.2878</td>\n",
       "      <td>0.0000</td>\n",
       "    </tr>\n",
       "    <tr>\n",
       "      <th>Детские коляски</th>\n",
       "      <td>603.8334</td>\n",
       "      <td>0.0000</td>\n",
       "    </tr>\n",
       "    <tr>\n",
       "      <th>Детский транспорт</th>\n",
       "      <td>48.0336</td>\n",
       "      <td>0.0543</td>\n",
       "    </tr>\n",
       "    <tr>\n",
       "      <th>Детское питание</th>\n",
       "      <td>32.8432</td>\n",
       "      <td>0.3841</td>\n",
       "    </tr>\n",
       "    <tr>\n",
       "      <th>Зимние товары</th>\n",
       "      <td>-42.2884</td>\n",
       "      <td>0.1755</td>\n",
       "    </tr>\n",
       "    <tr>\n",
       "      <th>Книжки</th>\n",
       "      <td>-62.6075</td>\n",
       "      <td>0.0002</td>\n",
       "    </tr>\n",
       "    <tr>\n",
       "      <th>Купание малыша</th>\n",
       "      <td>-26.3677</td>\n",
       "      <td>0.3709</td>\n",
       "    </tr>\n",
       "    <tr>\n",
       "      <th>Летние товары</th>\n",
       "      <td>-287.1333</td>\n",
       "      <td>0.0000</td>\n",
       "    </tr>\n",
       "    <tr>\n",
       "      <th>Постельные принадлежности</th>\n",
       "      <td>-69.2899</td>\n",
       "      <td>0.0000</td>\n",
       "    </tr>\n",
       "    <tr>\n",
       "      <th>Развитие и школа</th>\n",
       "      <td>-8.3850</td>\n",
       "      <td>0.4022</td>\n",
       "    </tr>\n",
       "    <tr>\n",
       "      <th>Спорт и отдых</th>\n",
       "      <td>90.9396</td>\n",
       "      <td>0.0004</td>\n",
       "    </tr>\n",
       "    <tr>\n",
       "      <th>Творчество и хобби</th>\n",
       "      <td>-38.9836</td>\n",
       "      <td>0.0025</td>\n",
       "    </tr>\n",
       "    <tr>\n",
       "      <th>Товары для мамы</th>\n",
       "      <td>-37.0086</td>\n",
       "      <td>0.1676</td>\n",
       "    </tr>\n",
       "  </tbody>\n",
       "</table>\n",
       "</div>"
      ],
      "text/plain": [
       "                              coefs  p_value\n",
       "Старая цена                  0.8124   0.0000\n",
       "Москва                      69.8859   0.0000\n",
       "Санкт-Петербург             49.0653   0.0000\n",
       "Аксессуары для кормления   -53.3937   0.0301\n",
       "Безопасность ребенка       -23.4670   0.6664\n",
       "Гигиена и здоровье         -37.2356   0.0374\n",
       "Детская мебель             254.8149   0.0000\n",
       "Детская обувь             -293.8843   0.0000\n",
       "Детская одежда            -190.2686   0.0000\n",
       "Детские автокресла         324.0875   0.0000\n",
       "Детские игрушки и игры     -65.2878   0.0000\n",
       "Детские коляски            603.8334   0.0000\n",
       "Детский транспорт           48.0336   0.0543\n",
       "Детское питание             32.8432   0.3841\n",
       "Зимние товары              -42.2884   0.1755\n",
       "Книжки                     -62.6075   0.0002\n",
       "Купание малыша             -26.3677   0.3709\n",
       "Летние товары             -287.1333   0.0000\n",
       "Постельные принадлежности  -69.2899   0.0000\n",
       "Развитие и школа            -8.3850   0.4022\n",
       "Спорт и отдых               90.9396   0.0004\n",
       "Творчество и хобби         -38.9836   0.0025\n",
       "Товары для мамы            -37.0086   0.1676"
      ]
     },
     "execution_count": 37,
     "metadata": {},
     "output_type": "execute_result"
    }
   ],
   "source": [
    "results_ols = pd.DataFrame()\n",
    "results_ols['coefs'] = est.params\n",
    "results_ols['p_value'] = est.pvalues\n",
    "results_ols"
   ]
  },
  {
   "cell_type": "markdown",
   "metadata": {},
   "source": [
    "Полученные коэффиценты означают следующее:\n",
    "-старая цена очень сильно коррелирует с новой"
   ]
  },
  {
   "cell_type": "code",
   "execution_count": 38,
   "metadata": {},
   "outputs": [
    {
     "name": "stdout",
     "output_type": "stream",
     "text": [
      "(28757, 23)\n",
      "(28757,)\n"
     ]
    }
   ],
   "source": [
    "print(X_train.shape)\n",
    "print(y_train.shape)"
   ]
  },
  {
   "cell_type": "markdown",
   "metadata": {},
   "source": [
    "Я честно долго пыталась исправить ошибку, но даже гугл не смог мне объяснить как правильно соединять таблички чтобы количество строк странным образом не увеличивалось :(((("
   ]
  },
  {
   "cell_type": "code",
   "execution_count": 43,
   "metadata": {},
   "outputs": [
    {
     "name": "stdout",
     "output_type": "stream",
     "text": [
      "          0      1          2      3      4      5      6      7      8   \\\n",
      "0     0.0000 1.0000  1115.0000 0.0000 1.0000 0.0000 0.0000 0.0000 0.0000   \n",
      "1     1.0000 1.0000        nan    nan    nan    nan    nan    nan    nan   \n",
      "2     2.0000 1.0000        nan    nan    nan    nan    nan    nan    nan   \n",
      "3     3.0000 1.0000        nan    nan    nan    nan    nan    nan    nan   \n",
      "4     4.0000 1.0000   730.0000 1.0000 0.0000 0.0000 0.0000 0.0000 0.0000   \n",
      "...      ...    ...        ...    ...    ...    ...    ...    ...    ...   \n",
      "35944    nan    nan  8695.0000 1.0000 0.0000 0.0000 0.0000 0.0000 0.0000   \n",
      "35945    nan    nan  8570.0000 1.0000 0.0000 0.0000 0.0000 0.0000 0.0000   \n",
      "35946    nan    nan  8874.0000 1.0000 0.0000 0.0000 0.0000 0.0000 0.0000   \n",
      "35947    nan    nan 10530.0000 1.0000 0.0000 0.0000 0.0000 0.0000 0.0000   \n",
      "35948    nan    nan 10674.0000 1.0000 0.0000 0.0000 0.0000 0.0000 0.0000   \n",
      "\n",
      "          9   ...     15     16     17     18     19     20     21     22  \\\n",
      "0     0.0000  ... 0.0000 0.0000 0.0000 0.0000 0.0000 0.0000 0.0000 0.0000   \n",
      "1        nan  ...    nan    nan    nan    nan    nan    nan    nan    nan   \n",
      "2        nan  ...    nan    nan    nan    nan    nan    nan    nan    nan   \n",
      "3        nan  ...    nan    nan    nan    nan    nan    nan    nan    nan   \n",
      "4     0.0000  ... 0.0000 0.0000 0.0000 0.0000 0.0000 0.0000 0.0000 0.0000   \n",
      "...      ...  ...    ...    ...    ...    ...    ...    ...    ...    ...   \n",
      "35944 0.0000  ... 0.0000 0.0000 0.0000 0.0000 0.0000 0.0000 1.0000 0.0000   \n",
      "35945 0.0000  ... 0.0000 0.0000 0.0000 0.0000 0.0000 0.0000 1.0000 0.0000   \n",
      "35946 0.0000  ... 0.0000 0.0000 0.0000 0.0000 0.0000 0.0000 1.0000 0.0000   \n",
      "35947 0.0000  ... 0.0000 0.0000 0.0000 0.0000 0.0000 0.0000 1.0000 0.0000   \n",
      "35948 0.0000  ... 0.0000 0.0000 0.0000 0.0000 0.0000 0.0000 1.0000 0.0000   \n",
      "\n",
      "          23     24  \n",
      "0     0.0000 0.0000  \n",
      "1        nan    nan  \n",
      "2        nan    nan  \n",
      "3        nan    nan  \n",
      "4     0.0000 0.0000  \n",
      "...      ...    ...  \n",
      "35944 0.0000 0.0000  \n",
      "35945 0.0000 0.0000  \n",
      "35946 0.0000 0.0000  \n",
      "35947 0.0000 0.0000  \n",
      "35948 0.0000 0.0000  \n",
      "\n",
      "[34559 rows x 25 columns]\n",
      "(28757, 23)\n",
      "(28757,)\n",
      "(34559, 25)\n",
      "               0\n",
      "0         1.0000\n",
      "1580    140.0000\n",
      "6048    130.0000\n",
      "16210   210.0000\n",
      "23074   399.0000\n",
      "...          ...\n",
      "3915    659.0000\n",
      "31964  3810.0000\n",
      "23452    73.0000\n",
      "23775 18205.0000\n",
      "27098  6500.0000\n",
      "\n",
      "[28758 rows x 1 columns]\n"
     ]
    },
    {
     "ename": "ValueError",
     "evalue": "matrices are not aligned",
     "output_type": "error",
     "traceback": [
      "\u001b[1;31m---------------------------------------------------------------------------\u001b[0m",
      "\u001b[1;31mValueError\u001b[0m                                Traceback (most recent call last)",
      "\u001b[1;32m<ipython-input-43-feeb199fe050>\u001b[0m in \u001b[0;36m<module>\u001b[1;34m\u001b[0m\n\u001b[0;32m     14\u001b[0m \u001b[0mprint\u001b[0m\u001b[1;33m(\u001b[0m\u001b[0migrek\u001b[0m\u001b[1;33m)\u001b[0m\u001b[1;33m\u001b[0m\u001b[1;33m\u001b[0m\u001b[0m\n\u001b[0;32m     15\u001b[0m \u001b[1;33m\u001b[0m\u001b[0m\n\u001b[1;32m---> 16\u001b[1;33m \u001b[0mbeta\u001b[0m\u001b[1;33m=\u001b[0m\u001b[1;33m(\u001b[0m\u001b[0mpd\u001b[0m\u001b[1;33m.\u001b[0m\u001b[0mDataFrame\u001b[0m\u001b[1;33m(\u001b[0m\u001b[0mnp\u001b[0m\u001b[1;33m.\u001b[0m\u001b[0mlinalg\u001b[0m\u001b[1;33m.\u001b[0m\u001b[0minv\u001b[0m\u001b[1;33m(\u001b[0m\u001b[0miks\u001b[0m\u001b[1;33m.\u001b[0m\u001b[0mtranspose\u001b[0m\u001b[1;33m(\u001b[0m\u001b[1;33m)\u001b[0m\u001b[1;33m.\u001b[0m\u001b[0mdot\u001b[0m\u001b[1;33m(\u001b[0m\u001b[0miks\u001b[0m\u001b[1;33m)\u001b[0m\u001b[1;33m)\u001b[0m\u001b[1;33m)\u001b[0m\u001b[1;33m.\u001b[0m\u001b[0mdot\u001b[0m\u001b[1;33m(\u001b[0m\u001b[0miks\u001b[0m\u001b[1;33m.\u001b[0m\u001b[0mtranspose\u001b[0m\u001b[1;33m(\u001b[0m\u001b[1;33m)\u001b[0m\u001b[1;33m)\u001b[0m\u001b[1;33m)\u001b[0m\u001b[1;33m.\u001b[0m\u001b[0mdot\u001b[0m\u001b[1;33m(\u001b[0m\u001b[0migrek\u001b[0m\u001b[1;33m)\u001b[0m\u001b[1;33m\u001b[0m\u001b[1;33m\u001b[0m\u001b[0m\n\u001b[0m\u001b[0;32m     17\u001b[0m \u001b[0mbeta\u001b[0m\u001b[1;33m.\u001b[0m\u001b[0mcolumns\u001b[0m\u001b[1;33m=\u001b[0m\u001b[1;33m[\u001b[0m\u001b[1;34m'coefs'\u001b[0m\u001b[1;33m]\u001b[0m\u001b[1;33m\u001b[0m\u001b[1;33m\u001b[0m\u001b[0m\n\u001b[0;32m     18\u001b[0m \u001b[0mprint\u001b[0m\u001b[1;33m(\u001b[0m\u001b[0mbeta\u001b[0m\u001b[1;33m)\u001b[0m\u001b[1;33m\u001b[0m\u001b[1;33m\u001b[0m\u001b[0m\n",
      "\u001b[1;32m~\\anaconda3\\lib\\site-packages\\pandas\\core\\frame.py\u001b[0m in \u001b[0;36mdot\u001b[1;34m(self, other)\u001b[0m\n\u001b[0;32m   1121\u001b[0m             \u001b[0mcommon\u001b[0m \u001b[1;33m=\u001b[0m \u001b[0mself\u001b[0m\u001b[1;33m.\u001b[0m\u001b[0mcolumns\u001b[0m\u001b[1;33m.\u001b[0m\u001b[0munion\u001b[0m\u001b[1;33m(\u001b[0m\u001b[0mother\u001b[0m\u001b[1;33m.\u001b[0m\u001b[0mindex\u001b[0m\u001b[1;33m)\u001b[0m\u001b[1;33m\u001b[0m\u001b[1;33m\u001b[0m\u001b[0m\n\u001b[0;32m   1122\u001b[0m             \u001b[1;32mif\u001b[0m \u001b[0mlen\u001b[0m\u001b[1;33m(\u001b[0m\u001b[0mcommon\u001b[0m\u001b[1;33m)\u001b[0m \u001b[1;33m>\u001b[0m \u001b[0mlen\u001b[0m\u001b[1;33m(\u001b[0m\u001b[0mself\u001b[0m\u001b[1;33m.\u001b[0m\u001b[0mcolumns\u001b[0m\u001b[1;33m)\u001b[0m \u001b[1;32mor\u001b[0m \u001b[0mlen\u001b[0m\u001b[1;33m(\u001b[0m\u001b[0mcommon\u001b[0m\u001b[1;33m)\u001b[0m \u001b[1;33m>\u001b[0m \u001b[0mlen\u001b[0m\u001b[1;33m(\u001b[0m\u001b[0mother\u001b[0m\u001b[1;33m.\u001b[0m\u001b[0mindex\u001b[0m\u001b[1;33m)\u001b[0m\u001b[1;33m:\u001b[0m\u001b[1;33m\u001b[0m\u001b[1;33m\u001b[0m\u001b[0m\n\u001b[1;32m-> 1123\u001b[1;33m                 \u001b[1;32mraise\u001b[0m \u001b[0mValueError\u001b[0m\u001b[1;33m(\u001b[0m\u001b[1;34m\"matrices are not aligned\"\u001b[0m\u001b[1;33m)\u001b[0m\u001b[1;33m\u001b[0m\u001b[1;33m\u001b[0m\u001b[0m\n\u001b[0m\u001b[0;32m   1124\u001b[0m \u001b[1;33m\u001b[0m\u001b[0m\n\u001b[0;32m   1125\u001b[0m             \u001b[0mleft\u001b[0m \u001b[1;33m=\u001b[0m \u001b[0mself\u001b[0m\u001b[1;33m.\u001b[0m\u001b[0mreindex\u001b[0m\u001b[1;33m(\u001b[0m\u001b[0mcolumns\u001b[0m\u001b[1;33m=\u001b[0m\u001b[0mcommon\u001b[0m\u001b[1;33m,\u001b[0m \u001b[0mcopy\u001b[0m\u001b[1;33m=\u001b[0m\u001b[1;32mFalse\u001b[0m\u001b[1;33m)\u001b[0m\u001b[1;33m\u001b[0m\u001b[1;33m\u001b[0m\u001b[0m\n",
      "\u001b[1;31mValueError\u001b[0m: matrices are not aligned"
     ]
    }
   ],
   "source": [
    "constanta=pd.DataFrame({'index': list(range(len(X_train)))})\n",
    "constanta['const'] = 1\n",
    "iks=pd.concat([constanta['const'], X_train ], axis=1, ignore_index=True)\n",
    "iks.columns=list(range(24))\n",
    "\n",
    "print(iks)\n",
    "print(X_train.shape) \n",
    "print(constanta['const'].shape)\n",
    "print(iks.shape)\n",
    "\n",
    "igrek=pd.DataFrame()\n",
    "igrek.loc[0, 0] = 1\n",
    "igrek=pd.concat([igrek, y_train], axis=0)\n",
    "print(igrek)\n",
    "\n",
    "beta=(pd.DataFrame(np.linalg.inv(iks.transpose().dot(iks))).dot(iks.transpose())).dot(igrek)\n",
    "beta.columns=['coefs']\n",
    "print(beta)"
   ]
  },
  {
   "cell_type": "code",
   "execution_count": 48,
   "metadata": {},
   "outputs": [],
   "source": [
    "from sklearn.linear_model import LinearRegression\n",
    "from sklearn import model_selection, datasets, linear_model, metrics"
   ]
  },
  {
   "cell_type": "code",
   "execution_count": 49,
   "metadata": {},
   "outputs": [
    {
     "data": {
      "text/plain": [
       "LinearRegression(copy_X=True, fit_intercept=True, n_jobs=None, normalize=False)"
      ]
     },
     "execution_count": 49,
     "metadata": {},
     "output_type": "execute_result"
    }
   ],
   "source": [
    "linear_regressor = LinearRegression()\n",
    "linear_regressor.fit(X_train, y_train)"
   ]
  },
  {
   "cell_type": "code",
   "execution_count": 91,
   "metadata": {},
   "outputs": [
    {
     "name": "stdout",
     "output_type": "stream",
     "text": [
      "R^2:  0.9863429929898054\n",
      "Абсолютная ошибка train: 207.16703308265213\n",
      "Абсолютная ошибка test: 201.92289662846994\n"
     ]
    }
   ],
   "source": [
    "print(\"R^2: \", linear_regressor.score(X_train, y_train))\n",
    "print(\"Абсолютная ошибка train:\",metrics.mean_absolute_error(y_train, linear_regressor.predict(X_train)))\n",
    "print(\"Абсолютная ошибка test:\",metrics.mean_absolute_error(y_test, linear_regressor.predict(X_test)))"
   ]
  },
  {
   "cell_type": "code",
   "execution_count": 101,
   "metadata": {},
   "outputs": [
    {
     "data": {
      "text/html": [
       "<div>\n",
       "<style scoped>\n",
       "    .dataframe tbody tr th:only-of-type {\n",
       "        vertical-align: middle;\n",
       "    }\n",
       "\n",
       "    .dataframe tbody tr th {\n",
       "        vertical-align: top;\n",
       "    }\n",
       "\n",
       "    .dataframe thead th {\n",
       "        text-align: right;\n",
       "    }\n",
       "</style>\n",
       "<table border=\"1\" class=\"dataframe\">\n",
       "  <thead>\n",
       "    <tr style=\"text-align: right;\">\n",
       "      <th></th>\n",
       "      <th>fact</th>\n",
       "      <th>pred</th>\n",
       "    </tr>\n",
       "  </thead>\n",
       "  <tbody>\n",
       "    <tr>\n",
       "      <th>2663</th>\n",
       "      <td>210</td>\n",
       "      <td>151.2588</td>\n",
       "    </tr>\n",
       "    <tr>\n",
       "      <th>12032</th>\n",
       "      <td>40</td>\n",
       "      <td>52.4494</td>\n",
       "    </tr>\n",
       "    <tr>\n",
       "      <th>35109</th>\n",
       "      <td>63</td>\n",
       "      <td>118.3686</td>\n",
       "    </tr>\n",
       "    <tr>\n",
       "      <th>23381</th>\n",
       "      <td>225</td>\n",
       "      <td>234.0010</td>\n",
       "    </tr>\n",
       "    <tr>\n",
       "      <th>19014</th>\n",
       "      <td>1167</td>\n",
       "      <td>1007.3946</td>\n",
       "    </tr>\n",
       "  </tbody>\n",
       "</table>\n",
       "</div>"
      ],
      "text/plain": [
       "       fact      pred\n",
       "2663    210  151.2588\n",
       "12032    40   52.4494\n",
       "35109    63  118.3686\n",
       "23381   225  234.0010\n",
       "19014  1167 1007.3946"
      ]
     },
     "execution_count": 101,
     "metadata": {},
     "output_type": "execute_result"
    }
   ],
   "source": [
    "y_predLinear = linear_regressor.predict(X_test)\n",
    "\n",
    "testPredLinear=pd.DataFrame()\n",
    "testPredLinear['fact']=y_test.copy()\n",
    "testPredLinear['pred']=ypredLinear\n",
    "\n",
    "testPredLinear.head()"
   ]
  },
  {
   "cell_type": "code",
   "execution_count": 89,
   "metadata": {},
   "outputs": [
    {
     "data": {
      "text/plain": [
       "<matplotlib.collections.PathCollection at 0x2640382b6c8>"
      ]
     },
     "execution_count": 89,
     "metadata": {},
     "output_type": "execute_result"
    },
    {
     "data": {
      "image/png": "[encoded data removed]",
      "text/plain": [
       "<Figure size 432x288 with 1 Axes>"
      ]
     },
     "metadata": {
      "needs_background": "light"
     },
     "output_type": "display_data"
    }
   ],
   "source": [
    "plt.title(\"Реальные и предсказанные значения LinearRegresson на train и test\")\n",
    "plt.xlabel(\"Реальные данные\")\n",
    "plt.ylabel(\"Предсказанные значения\")\n",
    "plt.scatter(y_train,linear_regressor.predict(X_train), color=['#9BED00'])\n",
    "plt.scatter(y_test,linear_regressor.predict(X_test), color=['#CE0071'])"
   ]
  },
  {
   "cell_type": "markdown",
   "metadata": {},
   "source": [
    "Линейная модель полученная методом OLS показала отличные результаты. \n",
    "Воспользуемся еще методами Lasso и Ridge для сравнения результатов."
   ]
  },
  {
   "cell_type": "markdown",
   "metadata": {},
   "source": [
    "### Лассо регрессия"
   ]
  },
  {
   "cell_type": "code",
   "execution_count": 54,
   "metadata": {},
   "outputs": [],
   "source": [
    "from sklearn.linear_model import Lasso, Ridge\n",
    "from sklearn.linear_model import LassoCV, RidgeCV"
   ]
  },
  {
   "cell_type": "code",
   "execution_count": 55,
   "metadata": {},
   "outputs": [],
   "source": [
    "lasso_regressor = Lasso(random_state = 1)\n",
    "lasso_regressor.fit(X_train, y_train)\n",
    "lasso_predictions = lasso_regressor.predict(X_train)"
   ]
  },
  {
   "cell_type": "code",
   "execution_count": 56,
   "metadata": {},
   "outputs": [
    {
     "name": "stdout",
     "output_type": "stream",
     "text": [
      "RMSE = 553.59\n"
     ]
    }
   ],
   "source": [
    "rmse = np.sqrt(mean_squared_error(y_train, lasso_predictions.astype(int))).round(2)\n",
    "print(f'RMSE = {rmse}')"
   ]
  },
  {
   "cell_type": "code",
   "execution_count": 93,
   "metadata": {},
   "outputs": [
    {
     "name": "stdout",
     "output_type": "stream",
     "text": [
      "R^2 = 0.9863184596339856\n"
     ]
    }
   ],
   "source": [
    "score = lasso_regressor.score(X_train, y_train)\n",
    "print('R^2 = {}'.format(score))"
   ]
  },
  {
   "cell_type": "code",
   "execution_count": 58,
   "metadata": {},
   "outputs": [
    {
     "data": {
      "text/html": [
       "<div>\n",
       "<style scoped>\n",
       "    .dataframe tbody tr th:only-of-type {\n",
       "        vertical-align: middle;\n",
       "    }\n",
       "\n",
       "    .dataframe tbody tr th {\n",
       "        vertical-align: top;\n",
       "    }\n",
       "\n",
       "    .dataframe thead th {\n",
       "        text-align: right;\n",
       "    }\n",
       "</style>\n",
       "<table border=\"1\" class=\"dataframe\">\n",
       "  <thead>\n",
       "    <tr style=\"text-align: right;\">\n",
       "      <th></th>\n",
       "      <th>coefs</th>\n",
       "    </tr>\n",
       "  </thead>\n",
       "  <tbody>\n",
       "    <tr>\n",
       "      <th>0</th>\n",
       "      <td>0.8133</td>\n",
       "    </tr>\n",
       "    <tr>\n",
       "      <th>1</th>\n",
       "      <td>16.7207</td>\n",
       "    </tr>\n",
       "    <tr>\n",
       "      <th>2</th>\n",
       "      <td>-0.0000</td>\n",
       "    </tr>\n",
       "    <tr>\n",
       "      <th>3</th>\n",
       "      <td>-0.0000</td>\n",
       "    </tr>\n",
       "    <tr>\n",
       "      <th>4</th>\n",
       "      <td>0.0000</td>\n",
       "    </tr>\n",
       "    <tr>\n",
       "      <th>5</th>\n",
       "      <td>-0.0000</td>\n",
       "    </tr>\n",
       "    <tr>\n",
       "      <th>6</th>\n",
       "      <td>260.8345</td>\n",
       "    </tr>\n",
       "    <tr>\n",
       "      <th>7</th>\n",
       "      <td>-217.8411</td>\n",
       "    </tr>\n",
       "    <tr>\n",
       "      <th>8</th>\n",
       "      <td>-150.7494</td>\n",
       "    </tr>\n",
       "    <tr>\n",
       "      <th>9</th>\n",
       "      <td>240.8750</td>\n",
       "    </tr>\n",
       "    <tr>\n",
       "      <th>10</th>\n",
       "      <td>-23.7876</td>\n",
       "    </tr>\n",
       "    <tr>\n",
       "      <th>11</th>\n",
       "      <td>573.8577</td>\n",
       "    </tr>\n",
       "    <tr>\n",
       "      <th>12</th>\n",
       "      <td>19.5934</td>\n",
       "    </tr>\n",
       "    <tr>\n",
       "      <th>13</th>\n",
       "      <td>0.0000</td>\n",
       "    </tr>\n",
       "    <tr>\n",
       "      <th>14</th>\n",
       "      <td>-0.0000</td>\n",
       "    </tr>\n",
       "    <tr>\n",
       "      <th>15</th>\n",
       "      <td>-0.0000</td>\n",
       "    </tr>\n",
       "    <tr>\n",
       "      <th>16</th>\n",
       "      <td>0.0000</td>\n",
       "    </tr>\n",
       "    <tr>\n",
       "      <th>17</th>\n",
       "      <td>-184.7961</td>\n",
       "    </tr>\n",
       "    <tr>\n",
       "      <th>18</th>\n",
       "      <td>-23.1391</td>\n",
       "    </tr>\n",
       "    <tr>\n",
       "      <th>19</th>\n",
       "      <td>22.1027</td>\n",
       "    </tr>\n",
       "    <tr>\n",
       "      <th>20</th>\n",
       "      <td>59.4135</td>\n",
       "    </tr>\n",
       "    <tr>\n",
       "      <th>21</th>\n",
       "      <td>-0.0000</td>\n",
       "    </tr>\n",
       "    <tr>\n",
       "      <th>22</th>\n",
       "      <td>-0.0000</td>\n",
       "    </tr>\n",
       "    <tr>\n",
       "      <th>23</th>\n",
       "      <td>14.5982</td>\n",
       "    </tr>\n",
       "  </tbody>\n",
       "</table>\n",
       "</div>"
      ],
      "text/plain": [
       "       coefs\n",
       "0     0.8133\n",
       "1    16.7207\n",
       "2    -0.0000\n",
       "3    -0.0000\n",
       "4     0.0000\n",
       "5    -0.0000\n",
       "6   260.8345\n",
       "7  -217.8411\n",
       "8  -150.7494\n",
       "9   240.8750\n",
       "10  -23.7876\n",
       "11  573.8577\n",
       "12   19.5934\n",
       "13    0.0000\n",
       "14   -0.0000\n",
       "15   -0.0000\n",
       "16    0.0000\n",
       "17 -184.7961\n",
       "18  -23.1391\n",
       "19   22.1027\n",
       "20   59.4135\n",
       "21   -0.0000\n",
       "22   -0.0000\n",
       "23   14.5982"
      ]
     },
     "execution_count": 58,
     "metadata": {},
     "output_type": "execute_result"
    }
   ],
   "source": [
    "results_lasso= pd.DataFrame()\n",
    "results_lasso['coefs'] = [*lasso_regressor.coef_, lasso_regressor.intercept_]\n",
    "\n",
    "results_lasso"
   ]
  },
  {
   "cell_type": "code",
   "execution_count": 59,
   "metadata": {},
   "outputs": [],
   "source": [
    "prediction = pd.DataFrame()\n",
    "prediction['pred'] = lasso_regressor.predict(X_train)\n",
    "prediction['fact'] = y_train"
   ]
  },
  {
   "cell_type": "code",
   "execution_count": 60,
   "metadata": {},
   "outputs": [
    {
     "data": {
      "text/html": [
       "<div>\n",
       "<style scoped>\n",
       "    .dataframe tbody tr th:only-of-type {\n",
       "        vertical-align: middle;\n",
       "    }\n",
       "\n",
       "    .dataframe tbody tr th {\n",
       "        vertical-align: top;\n",
       "    }\n",
       "\n",
       "    .dataframe thead th {\n",
       "        text-align: right;\n",
       "    }\n",
       "</style>\n",
       "<table border=\"1\" class=\"dataframe\">\n",
       "  <thead>\n",
       "    <tr style=\"text-align: right;\">\n",
       "      <th></th>\n",
       "      <th>20610</th>\n",
       "      <th>17246</th>\n",
       "      <th>15953</th>\n",
       "      <th>27009</th>\n",
       "      <th>26243</th>\n",
       "      <th>762</th>\n",
       "      <th>27631</th>\n",
       "      <th>498</th>\n",
       "      <th>17578</th>\n",
       "      <th>2122</th>\n",
       "      <th>21290</th>\n",
       "      <th>16470</th>\n",
       "      <th>25181</th>\n",
       "      <th>1876</th>\n",
       "      <th>15585</th>\n",
       "      <th>1971</th>\n",
       "      <th>7414</th>\n",
       "    </tr>\n",
       "  </thead>\n",
       "  <tbody>\n",
       "    <tr>\n",
       "      <th>pred</th>\n",
       "      <td>433.1468</td>\n",
       "      <td>1556.3683</td>\n",
       "      <td>462.9697</td>\n",
       "      <td>3101.6174</td>\n",
       "      <td>983.8172</td>\n",
       "      <td>461.9038</td>\n",
       "      <td>217.9189</td>\n",
       "      <td>302.2979</td>\n",
       "      <td>862.6127</td>\n",
       "      <td>241.9592</td>\n",
       "      <td>2230.5798</td>\n",
       "      <td>175.4141</td>\n",
       "      <td>59.3288</td>\n",
       "      <td>269.6769</td>\n",
       "      <td>2189.1023</td>\n",
       "      <td>2763.9492</td>\n",
       "      <td>4952.4843</td>\n",
       "    </tr>\n",
       "    <tr>\n",
       "      <th>fact</th>\n",
       "      <td>575.0000</td>\n",
       "      <td>950.0000</td>\n",
       "      <td>2795.0000</td>\n",
       "      <td>nan</td>\n",
       "      <td>599.0000</td>\n",
       "      <td>568.0000</td>\n",
       "      <td>767.0000</td>\n",
       "      <td>2840.0000</td>\n",
       "      <td>320.0000</td>\n",
       "      <td>5686.0000</td>\n",
       "      <td>688.0000</td>\n",
       "      <td>nan</td>\n",
       "      <td>150.0000</td>\n",
       "      <td>210.0000</td>\n",
       "      <td>157.0000</td>\n",
       "      <td>nan</td>\n",
       "      <td>nan</td>\n",
       "    </tr>\n",
       "  </tbody>\n",
       "</table>\n",
       "</div>"
      ],
      "text/plain": [
       "        20610     17246     15953     27009    26243    762      27631  \\\n",
       "pred 433.1468 1556.3683  462.9697 3101.6174 983.8172 461.9038 217.9189   \n",
       "fact 575.0000  950.0000 2795.0000       nan 599.0000 568.0000 767.0000   \n",
       "\n",
       "         498      17578     2122      21290    16470    25181    1876   \\\n",
       "pred  302.2979 862.6127  241.9592 2230.5798 175.4141  59.3288 269.6769   \n",
       "fact 2840.0000 320.0000 5686.0000  688.0000      nan 150.0000 210.0000   \n",
       "\n",
       "         15585     1971      7414   \n",
       "pred 2189.1023 2763.9492 4952.4843  \n",
       "fact  157.0000       nan       nan  "
      ]
     },
     "execution_count": 60,
     "metadata": {},
     "output_type": "execute_result"
    }
   ],
   "source": [
    "prediction.sample(17).T"
   ]
  },
  {
   "cell_type": "code",
   "execution_count": 100,
   "metadata": {},
   "outputs": [
    {
     "data": {
      "text/html": [
       "<div>\n",
       "<style scoped>\n",
       "    .dataframe tbody tr th:only-of-type {\n",
       "        vertical-align: middle;\n",
       "    }\n",
       "\n",
       "    .dataframe tbody tr th {\n",
       "        vertical-align: top;\n",
       "    }\n",
       "\n",
       "    .dataframe thead th {\n",
       "        text-align: right;\n",
       "    }\n",
       "</style>\n",
       "<table border=\"1\" class=\"dataframe\">\n",
       "  <thead>\n",
       "    <tr style=\"text-align: right;\">\n",
       "      <th></th>\n",
       "      <th>fact</th>\n",
       "      <th>pred</th>\n",
       "    </tr>\n",
       "  </thead>\n",
       "  <tbody>\n",
       "    <tr>\n",
       "      <th>2663</th>\n",
       "      <td>210</td>\n",
       "      <td>156.6306</td>\n",
       "    </tr>\n",
       "    <tr>\n",
       "      <th>12032</th>\n",
       "      <td>40</td>\n",
       "      <td>55.2624</td>\n",
       "    </tr>\n",
       "    <tr>\n",
       "      <th>35109</th>\n",
       "      <td>63</td>\n",
       "      <td>110.3515</td>\n",
       "    </tr>\n",
       "    <tr>\n",
       "      <th>23381</th>\n",
       "      <td>225</td>\n",
       "      <td>234.6397</td>\n",
       "    </tr>\n",
       "    <tr>\n",
       "      <th>19014</th>\n",
       "      <td>1167</td>\n",
       "      <td>1015.5469</td>\n",
       "    </tr>\n",
       "  </tbody>\n",
       "</table>\n",
       "</div>"
      ],
      "text/plain": [
       "       fact      pred\n",
       "2663    210  156.6306\n",
       "12032    40   55.2624\n",
       "35109    63  110.3515\n",
       "23381   225  234.6397\n",
       "19014  1167 1015.5469"
      ]
     },
     "execution_count": 100,
     "metadata": {},
     "output_type": "execute_result"
    }
   ],
   "source": [
    "y_predLasso = lasso_regressor.predict(X_test)\n",
    "\n",
    "testPredLasso = pd.DataFrame()\n",
    "testPredLasso['fact']=y_test.copy()\n",
    "testPredLasso['pred']=y_predLasso\n",
    "\n",
    "testPredLasso.head()"
   ]
  },
  {
   "cell_type": "code",
   "execution_count": 62,
   "metadata": {},
   "outputs": [
    {
     "data": {
      "text/plain": [
       "<matplotlib.collections.PathCollection at 0x26400099ec8>"
      ]
     },
     "execution_count": 62,
     "metadata": {},
     "output_type": "execute_result"
    },
    {
     "data": {
      "image/png": "[encoded data removed]",
      "text/plain": [
       "<Figure size 432x288 with 1 Axes>"
      ]
     },
     "metadata": {
      "needs_background": "light"
     },
     "output_type": "display_data"
    }
   ],
   "source": [
    "plt.title(\"Реальные и предсказанные значения для LassoRegression на train и test\")\n",
    "plt.xlabel(\"Реальные данные\")\n",
    "plt.ylabel(\"Предсказанные значения\")\n",
    "plt.scatter(y_train,lasso_regressor.predict(X_train))\n",
    "plt.scatter(y_test,lasso_regressor.predict(X_test))"
   ]
  },
  {
   "cell_type": "markdown",
   "metadata": {},
   "source": [
    "Это метод явно хуже OLS, это можно понять не только по R^2, но и по RMSE. Перейдем к Риджу."
   ]
  },
  {
   "cell_type": "markdown",
   "metadata": {},
   "source": [
    "### Ридж регрессия"
   ]
  },
  {
   "cell_type": "code",
   "execution_count": 63,
   "metadata": {},
   "outputs": [],
   "source": [
    "ridge_regressor = Ridge(random_state = 1)\n",
    "ridge_regressor.fit(X_train, y_train)\n",
    "ridge_predictor = ridge_regressor.predict(X_train)"
   ]
  },
  {
   "cell_type": "code",
   "execution_count": 95,
   "metadata": {},
   "outputs": [
    {
     "name": "stdout",
     "output_type": "stream",
     "text": [
      "R^2 = 0.9863429904344949\n",
      "Абсолютная ошибка train: 207.14489349897758\n",
      "Абсолютная ошибка test: 201.900282334061\n"
     ]
    }
   ],
   "source": [
    "score = ridge_regressor.score(X_train, y_train)\n",
    "print('R^2 = {}'.format(score))\n",
    "print(\"Абсолютная ошибка train:\",metrics.mean_absolute_error(y_train, ridge_regressor.predict(X_train)))\n",
    "print(\"Абсолютная ошибка test:\",metrics.mean_absolute_error(y_test, ridge_regressor.predict(X_test)))"
   ]
  },
  {
   "cell_type": "code",
   "execution_count": 65,
   "metadata": {},
   "outputs": [
    {
     "data": {
      "text/html": [
       "<div>\n",
       "<style scoped>\n",
       "    .dataframe tbody tr th:only-of-type {\n",
       "        vertical-align: middle;\n",
       "    }\n",
       "\n",
       "    .dataframe tbody tr th {\n",
       "        vertical-align: top;\n",
       "    }\n",
       "\n",
       "    .dataframe thead th {\n",
       "        text-align: right;\n",
       "    }\n",
       "</style>\n",
       "<table border=\"1\" class=\"dataframe\">\n",
       "  <thead>\n",
       "    <tr style=\"text-align: right;\">\n",
       "      <th></th>\n",
       "      <th>coefs</th>\n",
       "    </tr>\n",
       "  </thead>\n",
       "  <tbody>\n",
       "    <tr>\n",
       "      <th>0</th>\n",
       "      <td>0.8124</td>\n",
       "    </tr>\n",
       "    <tr>\n",
       "      <th>1</th>\n",
       "      <td>10.4032</td>\n",
       "    </tr>\n",
       "    <tr>\n",
       "      <th>2</th>\n",
       "      <td>-10.4032</td>\n",
       "    </tr>\n",
       "    <tr>\n",
       "      <th>3</th>\n",
       "      <td>-59.1434</td>\n",
       "    </tr>\n",
       "    <tr>\n",
       "      <th>4</th>\n",
       "      <td>-29.0611</td>\n",
       "    </tr>\n",
       "    <tr>\n",
       "      <th>5</th>\n",
       "      <td>-43.0614</td>\n",
       "    </tr>\n",
       "    <tr>\n",
       "      <th>6</th>\n",
       "      <td>248.6365</td>\n",
       "    </tr>\n",
       "    <tr>\n",
       "      <th>7</th>\n",
       "      <td>-299.3528</td>\n",
       "    </tr>\n",
       "    <tr>\n",
       "      <th>8</th>\n",
       "      <td>-196.1155</td>\n",
       "    </tr>\n",
       "    <tr>\n",
       "      <th>9</th>\n",
       "      <td>316.8740</td>\n",
       "    </tr>\n",
       "    <tr>\n",
       "      <th>10</th>\n",
       "      <td>-71.1543</td>\n",
       "    </tr>\n",
       "    <tr>\n",
       "      <th>11</th>\n",
       "      <td>596.6629</td>\n",
       "    </tr>\n",
       "    <tr>\n",
       "      <th>12</th>\n",
       "      <td>42.0196</td>\n",
       "    </tr>\n",
       "    <tr>\n",
       "      <th>13</th>\n",
       "      <td>26.8434</td>\n",
       "    </tr>\n",
       "    <tr>\n",
       "      <th>14</th>\n",
       "      <td>-48.0007</td>\n",
       "    </tr>\n",
       "    <tr>\n",
       "      <th>15</th>\n",
       "      <td>-68.4040</td>\n",
       "    </tr>\n",
       "    <tr>\n",
       "      <th>16</th>\n",
       "      <td>-32.1423</td>\n",
       "    </tr>\n",
       "    <tr>\n",
       "      <th>17</th>\n",
       "      <td>-292.4043</td>\n",
       "    </tr>\n",
       "    <tr>\n",
       "      <th>18</th>\n",
       "      <td>-75.1533</td>\n",
       "    </tr>\n",
       "    <tr>\n",
       "      <th>19</th>\n",
       "      <td>-14.2466</td>\n",
       "    </tr>\n",
       "    <tr>\n",
       "      <th>20</th>\n",
       "      <td>84.8328</td>\n",
       "    </tr>\n",
       "    <tr>\n",
       "      <th>21</th>\n",
       "      <td>-44.8235</td>\n",
       "    </tr>\n",
       "    <tr>\n",
       "      <th>22</th>\n",
       "      <td>-42.8063</td>\n",
       "    </tr>\n",
       "    <tr>\n",
       "      <th>23</th>\n",
       "      <td>65.3313</td>\n",
       "    </tr>\n",
       "  </tbody>\n",
       "</table>\n",
       "</div>"
      ],
      "text/plain": [
       "       coefs\n",
       "0     0.8124\n",
       "1    10.4032\n",
       "2   -10.4032\n",
       "3   -59.1434\n",
       "4   -29.0611\n",
       "5   -43.0614\n",
       "6   248.6365\n",
       "7  -299.3528\n",
       "8  -196.1155\n",
       "9   316.8740\n",
       "10  -71.1543\n",
       "11  596.6629\n",
       "12   42.0196\n",
       "13   26.8434\n",
       "14  -48.0007\n",
       "15  -68.4040\n",
       "16  -32.1423\n",
       "17 -292.4043\n",
       "18  -75.1533\n",
       "19  -14.2466\n",
       "20   84.8328\n",
       "21  -44.8235\n",
       "22  -42.8063\n",
       "23   65.3313"
      ]
     },
     "execution_count": 65,
     "metadata": {},
     "output_type": "execute_result"
    }
   ],
   "source": [
    "results_ridge= pd.DataFrame()\n",
    "results_ridge['coefs'] = [*ridge_regressor.coef_, ridge_regressor.intercept_]\n",
    "results_ridge"
   ]
  },
  {
   "cell_type": "code",
   "execution_count": 66,
   "metadata": {},
   "outputs": [],
   "source": [
    "prediction = pd.DataFrame()\n",
    "prediction['pred'] = ridge_regressor.predict(X_train)\n",
    "prediction['fact'] = y_train"
   ]
  },
  {
   "cell_type": "code",
   "execution_count": 67,
   "metadata": {},
   "outputs": [
    {
     "data": {
      "text/html": [
       "<div>\n",
       "<style scoped>\n",
       "    .dataframe tbody tr th:only-of-type {\n",
       "        vertical-align: middle;\n",
       "    }\n",
       "\n",
       "    .dataframe tbody tr th {\n",
       "        vertical-align: top;\n",
       "    }\n",
       "\n",
       "    .dataframe thead th {\n",
       "        text-align: right;\n",
       "    }\n",
       "</style>\n",
       "<table border=\"1\" class=\"dataframe\">\n",
       "  <thead>\n",
       "    <tr style=\"text-align: right;\">\n",
       "      <th></th>\n",
       "      <th>7670</th>\n",
       "      <th>18718</th>\n",
       "      <th>6774</th>\n",
       "      <th>18774</th>\n",
       "      <th>14441</th>\n",
       "      <th>16817</th>\n",
       "      <th>9004</th>\n",
       "      <th>19513</th>\n",
       "      <th>16844</th>\n",
       "      <th>24329</th>\n",
       "      <th>4910</th>\n",
       "      <th>20359</th>\n",
       "      <th>28408</th>\n",
       "      <th>14953</th>\n",
       "      <th>10840</th>\n",
       "      <th>27331</th>\n",
       "      <th>20299</th>\n",
       "    </tr>\n",
       "  </thead>\n",
       "  <tbody>\n",
       "    <tr>\n",
       "      <th>pred</th>\n",
       "      <td>1158.6668</td>\n",
       "      <td>1190.7362</td>\n",
       "      <td>1020.1304</td>\n",
       "      <td>3507.7043</td>\n",
       "      <td>1169.8908</td>\n",
       "      <td>73.6740</td>\n",
       "      <td>414.0733</td>\n",
       "      <td>342.3670</td>\n",
       "      <td>7975.9531</td>\n",
       "      <td>162.5429</td>\n",
       "      <td>447.4928</td>\n",
       "      <td>172.0862</td>\n",
       "      <td>620.4252</td>\n",
       "      <td>219.3725</td>\n",
       "      <td>240.2178</td>\n",
       "      <td>138.1316</td>\n",
       "      <td>2299.1392</td>\n",
       "    </tr>\n",
       "    <tr>\n",
       "      <th>fact</th>\n",
       "      <td>nan</td>\n",
       "      <td>920.0000</td>\n",
       "      <td>690.0000</td>\n",
       "      <td>65.0000</td>\n",
       "      <td>nan</td>\n",
       "      <td>155.0000</td>\n",
       "      <td>237.0000</td>\n",
       "      <td>255.0000</td>\n",
       "      <td>319.0000</td>\n",
       "      <td>22990.0000</td>\n",
       "      <td>130.0000</td>\n",
       "      <td>1325.0000</td>\n",
       "      <td>1920.0000</td>\n",
       "      <td>450.0000</td>\n",
       "      <td>3240.0000</td>\n",
       "      <td>344.0000</td>\n",
       "      <td>nan</td>\n",
       "    </tr>\n",
       "  </tbody>\n",
       "</table>\n",
       "</div>"
      ],
      "text/plain": [
       "         7670      18718     6774      18774     14441    16817    9004   \\\n",
       "pred 1158.6668 1190.7362 1020.1304 3507.7043 1169.8908  73.6740 414.0733   \n",
       "fact       nan  920.0000  690.0000   65.0000       nan 155.0000 237.0000   \n",
       "\n",
       "        19513     16844      24329    4910      20359     28408    14953  \\\n",
       "pred 342.3670 7975.9531   162.5429 447.4928  172.0862  620.4252 219.3725   \n",
       "fact 255.0000  319.0000 22990.0000 130.0000 1325.0000 1920.0000 450.0000   \n",
       "\n",
       "         10840    27331     20299  \n",
       "pred  240.2178 138.1316 2299.1392  \n",
       "fact 3240.0000 344.0000       nan  "
      ]
     },
     "execution_count": 67,
     "metadata": {},
     "output_type": "execute_result"
    }
   ],
   "source": [
    "prediction.sample(17).T"
   ]
  },
  {
   "cell_type": "code",
   "execution_count": 104,
   "metadata": {},
   "outputs": [
    {
     "data": {
      "text/html": [
       "<div>\n",
       "<style scoped>\n",
       "    .dataframe tbody tr th:only-of-type {\n",
       "        vertical-align: middle;\n",
       "    }\n",
       "\n",
       "    .dataframe tbody tr th {\n",
       "        vertical-align: top;\n",
       "    }\n",
       "\n",
       "    .dataframe thead th {\n",
       "        text-align: right;\n",
       "    }\n",
       "</style>\n",
       "<table border=\"1\" class=\"dataframe\">\n",
       "  <thead>\n",
       "    <tr style=\"text-align: right;\">\n",
       "      <th></th>\n",
       "      <th>fact</th>\n",
       "      <th>pred</th>\n",
       "    </tr>\n",
       "  </thead>\n",
       "  <tbody>\n",
       "    <tr>\n",
       "      <th>2663</th>\n",
       "      <td>210</td>\n",
       "      <td>151.2798</td>\n",
       "    </tr>\n",
       "    <tr>\n",
       "      <th>12032</th>\n",
       "      <td>40</td>\n",
       "      <td>52.4872</td>\n",
       "    </tr>\n",
       "    <tr>\n",
       "      <th>35109</th>\n",
       "      <td>63</td>\n",
       "      <td>118.3565</td>\n",
       "    </tr>\n",
       "    <tr>\n",
       "      <th>23381</th>\n",
       "      <td>225</td>\n",
       "      <td>234.0131</td>\n",
       "    </tr>\n",
       "    <tr>\n",
       "      <th>19014</th>\n",
       "      <td>1167</td>\n",
       "      <td>1007.4091</td>\n",
       "    </tr>\n",
       "  </tbody>\n",
       "</table>\n",
       "</div>"
      ],
      "text/plain": [
       "       fact      pred\n",
       "2663    210  151.2798\n",
       "12032    40   52.4872\n",
       "35109    63  118.3565\n",
       "23381   225  234.0131\n",
       "19014  1167 1007.4091"
      ]
     },
     "execution_count": 104,
     "metadata": {},
     "output_type": "execute_result"
    }
   ],
   "source": [
    "y_predRidge = ridge_regressor.predict(X_test)\n",
    "\n",
    "testPredRidge = pd.DataFrame()\n",
    "testPredRidge['fact']=y_test.copy()\n",
    "testPredRidge['pred']=y_predRidge\n",
    "\n",
    "testPredRidge.head()"
   ]
  },
  {
   "cell_type": "code",
   "execution_count": 86,
   "metadata": {},
   "outputs": [
    {
     "data": {
      "text/plain": [
       "<matplotlib.collections.PathCollection at 0x264036f3348>"
      ]
     },
     "execution_count": 86,
     "metadata": {},
     "output_type": "execute_result"
    },
    {
     "data": {
      "image/png": "[encoded data removed]",
      "text/plain": [
       "<Figure size 432x288 with 1 Axes>"
      ]
     },
     "metadata": {
      "needs_background": "light"
     },
     "output_type": "display_data"
    }
   ],
   "source": [
    "plt.title(\"Реальные и предсказанные значения Ridge regression на train и test\")\n",
    "plt.xlabel(\"Реальные данные\")\n",
    "plt.ylabel(\"Предсказанные значения\")\n",
    "plt.scatter(y_train,ridge_regressor.predict(X_train), color=['#04859D'])\n",
    "plt.scatter(y_test,ridge_regressor.predict(X_test), color=['#FF7C00'])"
   ]
  },
  {
   "cell_type": "code",
   "execution_count": null,
   "metadata": {},
   "outputs": [],
   "source": []
  },
  {
   "cell_type": "markdown",
   "metadata": {},
   "source": [
    "Метод Ridge показал наилучшие после OLS результаты. Также используем градиентный бустинг и Рандом форест, возможно они сравнятся по результативности с Ридж регрессией."
   ]
  },
  {
   "cell_type": "code",
   "execution_count": null,
   "metadata": {},
   "outputs": [],
   "source": []
  },
  {
   "cell_type": "markdown",
   "metadata": {},
   "source": [
    "### Градиентный бустинг "
   ]
  },
  {
   "cell_type": "code",
   "execution_count": 70,
   "metadata": {},
   "outputs": [
    {
     "data": {
      "text/plain": [
       "GradientBoostingRegressor(alpha=0.9, ccp_alpha=0.0, criterion='friedman_mse',\n",
       "                          init=None, learning_rate=0.1, loss='ls', max_depth=3,\n",
       "                          max_features=None, max_leaf_nodes=None,\n",
       "                          min_impurity_decrease=0.0, min_impurity_split=None,\n",
       "                          min_samples_leaf=1, min_samples_split=2,\n",
       "                          min_weight_fraction_leaf=0.0, n_estimators=100,\n",
       "                          n_iter_no_change=None, presort='deprecated',\n",
       "                          random_state=None, subsample=1.0, tol=0.0001,\n",
       "                          validation_fraction=0.1, verbose=0, warm_start=False)"
      ]
     },
     "execution_count": 70,
     "metadata": {},
     "output_type": "execute_result"
    }
   ],
   "source": [
    "from sklearn.ensemble import GradientBoostingRegressor\n",
    "\n",
    "boosting_regressor = GradientBoostingRegressor()\n",
    "boosting_regressor.fit(X_train, y_train)"
   ]
  },
  {
   "cell_type": "code",
   "execution_count": 84,
   "metadata": {},
   "outputs": [
    {
     "name": "stdout",
     "output_type": "stream",
     "text": [
      "R^2 = 0.9930947604488207\n",
      "Абсолютная ошибка train: 161.44681196507756\n",
      "Абсолютная ошибка test: 166.20911308966302\n"
     ]
    }
   ],
   "source": [
    "score = boosting_regressor.score(X_train, y_train)\n",
    "print('R^2 = {}'.format(score))\n",
    "print(\"Абсолютная ошибка train:\",metrics.mean_absolute_error(y_train, boosting_regressor.predict(X_train)))\n",
    "print(\"Абсолютная ошибка test:\",metrics.mean_absolute_error(y_test, boosting_regressor.predict(X_test)))"
   ]
  },
  {
   "cell_type": "code",
   "execution_count": 72,
   "metadata": {},
   "outputs": [
    {
     "data": {
      "text/html": [
       "<div>\n",
       "<style scoped>\n",
       "    .dataframe tbody tr th:only-of-type {\n",
       "        vertical-align: middle;\n",
       "    }\n",
       "\n",
       "    .dataframe tbody tr th {\n",
       "        vertical-align: top;\n",
       "    }\n",
       "\n",
       "    .dataframe thead th {\n",
       "        text-align: right;\n",
       "    }\n",
       "</style>\n",
       "<table border=\"1\" class=\"dataframe\">\n",
       "  <thead>\n",
       "    <tr style=\"text-align: right;\">\n",
       "      <th></th>\n",
       "      <th>28670</th>\n",
       "      <th>27900</th>\n",
       "      <th>16712</th>\n",
       "      <th>21353</th>\n",
       "      <th>9015</th>\n",
       "      <th>8249</th>\n",
       "      <th>9696</th>\n",
       "      <th>1000</th>\n",
       "      <th>8637</th>\n",
       "      <th>20347</th>\n",
       "      <th>18987</th>\n",
       "      <th>25448</th>\n",
       "      <th>8759</th>\n",
       "      <th>25493</th>\n",
       "      <th>17947</th>\n",
       "      <th>24410</th>\n",
       "      <th>24235</th>\n",
       "    </tr>\n",
       "  </thead>\n",
       "  <tbody>\n",
       "    <tr>\n",
       "      <th>pred</th>\n",
       "      <td>422.9668</td>\n",
       "      <td>8908.9523</td>\n",
       "      <td>986.6812</td>\n",
       "      <td>3717.2445</td>\n",
       "      <td>787.5501</td>\n",
       "      <td>81.1579</td>\n",
       "      <td>152.6007</td>\n",
       "      <td>422.9668</td>\n",
       "      <td>506.5666</td>\n",
       "      <td>2390.0996</td>\n",
       "      <td>1537.9016</td>\n",
       "      <td>298.8587</td>\n",
       "      <td>2459.7192</td>\n",
       "      <td>930.9540</td>\n",
       "      <td>916.7254</td>\n",
       "      <td>610.2473</td>\n",
       "      <td>1046.3958</td>\n",
       "    </tr>\n",
       "    <tr>\n",
       "      <th>fact</th>\n",
       "      <td>549.0000</td>\n",
       "      <td>858.0000</td>\n",
       "      <td>nan</td>\n",
       "      <td>588.0000</td>\n",
       "      <td>203.0000</td>\n",
       "      <td>1010.0000</td>\n",
       "      <td>9367.0000</td>\n",
       "      <td>1620.0000</td>\n",
       "      <td>277.0000</td>\n",
       "      <td>600.0000</td>\n",
       "      <td>320.0000</td>\n",
       "      <td>nan</td>\n",
       "      <td>728.0000</td>\n",
       "      <td>240.0000</td>\n",
       "      <td>nan</td>\n",
       "      <td>3990.0000</td>\n",
       "      <td>2045.0000</td>\n",
       "    </tr>\n",
       "  </tbody>\n",
       "</table>\n",
       "</div>"
      ],
      "text/plain": [
       "        28670     27900    16712     21353    9015      8249      9696   \\\n",
       "pred 422.9668 8908.9523 986.6812 3717.2445 787.5501   81.1579  152.6007   \n",
       "fact 549.0000  858.0000      nan  588.0000 203.0000 1010.0000 9367.0000   \n",
       "\n",
       "         1000     8637      20347     18987    25448     8759     25493  \\\n",
       "pred  422.9668 506.5666 2390.0996 1537.9016 298.8587 2459.7192 930.9540   \n",
       "fact 1620.0000 277.0000  600.0000  320.0000      nan  728.0000 240.0000   \n",
       "\n",
       "        17947     24410     24235  \n",
       "pred 916.7254  610.2473 1046.3958  \n",
       "fact      nan 3990.0000 2045.0000  "
      ]
     },
     "execution_count": 72,
     "metadata": {},
     "output_type": "execute_result"
    }
   ],
   "source": [
    "prediction = pd.DataFrame()\n",
    "prediction['pred'] = boosting_regressor.predict(X_train)\n",
    "prediction['fact'] = y_train\n",
    "prediction.sample(17).T"
   ]
  },
  {
   "cell_type": "code",
   "execution_count": 105,
   "metadata": {},
   "outputs": [
    {
     "data": {
      "text/html": [
       "<div>\n",
       "<style scoped>\n",
       "    .dataframe tbody tr th:only-of-type {\n",
       "        vertical-align: middle;\n",
       "    }\n",
       "\n",
       "    .dataframe tbody tr th {\n",
       "        vertical-align: top;\n",
       "    }\n",
       "\n",
       "    .dataframe thead th {\n",
       "        text-align: right;\n",
       "    }\n",
       "</style>\n",
       "<table border=\"1\" class=\"dataframe\">\n",
       "  <thead>\n",
       "    <tr style=\"text-align: right;\">\n",
       "      <th></th>\n",
       "      <th>fact</th>\n",
       "      <th>pred</th>\n",
       "    </tr>\n",
       "  </thead>\n",
       "  <tbody>\n",
       "    <tr>\n",
       "      <th>2663</th>\n",
       "      <td>210</td>\n",
       "      <td>247.8921</td>\n",
       "    </tr>\n",
       "    <tr>\n",
       "      <th>12032</th>\n",
       "      <td>40</td>\n",
       "      <td>59.6678</td>\n",
       "    </tr>\n",
       "    <tr>\n",
       "      <th>35109</th>\n",
       "      <td>63</td>\n",
       "      <td>81.1579</td>\n",
       "    </tr>\n",
       "    <tr>\n",
       "      <th>23381</th>\n",
       "      <td>225</td>\n",
       "      <td>213.0618</td>\n",
       "    </tr>\n",
       "    <tr>\n",
       "      <th>19014</th>\n",
       "      <td>1167</td>\n",
       "      <td>1030.4043</td>\n",
       "    </tr>\n",
       "  </tbody>\n",
       "</table>\n",
       "</div>"
      ],
      "text/plain": [
       "       fact      pred\n",
       "2663    210  247.8921\n",
       "12032    40   59.6678\n",
       "35109    63   81.1579\n",
       "23381   225  213.0618\n",
       "19014  1167 1030.4043"
      ]
     },
     "execution_count": 105,
     "metadata": {},
     "output_type": "execute_result"
    }
   ],
   "source": [
    "y_predboosting = boosting_regressor.predict(X_test)\n",
    "testPredboosting = pd.DataFrame()\n",
    "testPredboosting['fact']=y_test.copy()\n",
    "testPredboosting['pred']=y_predboosting\n",
    "\n",
    "testPredboosting.head()"
   ]
  },
  {
   "cell_type": "code",
   "execution_count": 87,
   "metadata": {},
   "outputs": [
    {
     "data": {
      "text/plain": [
       "<matplotlib.collections.PathCollection at 0x26403745708>"
      ]
     },
     "execution_count": 87,
     "metadata": {},
     "output_type": "execute_result"
    },
    {
     "data": {
      "image/png": "[encoded data removed]",
      "text/plain": [
       "<Figure size 432x288 with 1 Axes>"
      ]
     },
     "metadata": {
      "needs_background": "light"
     },
     "output_type": "display_data"
    }
   ],
   "source": [
    "plt.title(\"Реальные и предсказанные значения GBR на train и test\")\n",
    "plt.xlabel(\"Реальные данные\")\n",
    "plt.ylabel(\"Предсказанные значения\")\n",
    "plt.scatter(y_train,boosting_regressor.predict(X_train),color=['#3714B0'] )\n",
    "plt.scatter(y_test,boosting_regressor.predict(X_test),color=['#FFD200'])"
   ]
  },
  {
   "cell_type": "markdown",
   "metadata": {},
   "source": [
    "### Рандом Форест"
   ]
  },
  {
   "cell_type": "code",
   "execution_count": 75,
   "metadata": {},
   "outputs": [
    {
     "data": {
      "text/plain": [
       "RandomForestRegressor(bootstrap=True, ccp_alpha=0.0, criterion='mse',\n",
       "                      max_depth=None, max_features='auto', max_leaf_nodes=None,\n",
       "                      max_samples=None, min_impurity_decrease=0.0,\n",
       "                      min_impurity_split=None, min_samples_leaf=1,\n",
       "                      min_samples_split=2, min_weight_fraction_leaf=0.0,\n",
       "                      n_estimators=100, n_jobs=None, oob_score=False,\n",
       "                      random_state=None, verbose=0, warm_start=False)"
      ]
     },
     "execution_count": 75,
     "metadata": {},
     "output_type": "execute_result"
    }
   ],
   "source": [
    "from sklearn.ensemble import RandomForestRegressor\n",
    "randomforest_regressor = RandomForestRegressor()\n",
    "randomforest_regressor.fit(X_train, y_train)"
   ]
  },
  {
   "cell_type": "code",
   "execution_count": 106,
   "metadata": {},
   "outputs": [
    {
     "name": "stdout",
     "output_type": "stream",
     "text": [
      "R^2 = 0.9980598318815901\n",
      "Абсолютная ошибка train: 81.58333139847134\n",
      "Абсолютная ошибка test: 149.08644530830952\n"
     ]
    }
   ],
   "source": [
    "score = randomforest_regressor.score(X_train, y_train)\n",
    "print('R^2 = {}'.format(score))\n",
    "print(\"Абсолютная ошибка train:\",metrics.mean_absolute_error(y_train, randomforest_regressor.predict(X_train)))\n",
    "print(\"Абсолютная ошибка test:\",metrics.mean_absolute_error(y_test, randomforest_regressor.predict(X_test)))"
   ]
  },
  {
   "cell_type": "code",
   "execution_count": 77,
   "metadata": {},
   "outputs": [
    {
     "data": {
      "text/html": [
       "<div>\n",
       "<style scoped>\n",
       "    .dataframe tbody tr th:only-of-type {\n",
       "        vertical-align: middle;\n",
       "    }\n",
       "\n",
       "    .dataframe tbody tr th {\n",
       "        vertical-align: top;\n",
       "    }\n",
       "\n",
       "    .dataframe thead th {\n",
       "        text-align: right;\n",
       "    }\n",
       "</style>\n",
       "<table border=\"1\" class=\"dataframe\">\n",
       "  <thead>\n",
       "    <tr style=\"text-align: right;\">\n",
       "      <th></th>\n",
       "      <th>9911</th>\n",
       "      <th>325</th>\n",
       "      <th>4599</th>\n",
       "      <th>13813</th>\n",
       "      <th>18622</th>\n",
       "      <th>1527</th>\n",
       "      <th>3556</th>\n",
       "      <th>13556</th>\n",
       "      <th>16983</th>\n",
       "      <th>23067</th>\n",
       "      <th>15462</th>\n",
       "      <th>9708</th>\n",
       "      <th>15071</th>\n",
       "      <th>21569</th>\n",
       "      <th>20446</th>\n",
       "      <th>9156</th>\n",
       "      <th>22535</th>\n",
       "    </tr>\n",
       "  </thead>\n",
       "  <tbody>\n",
       "    <tr>\n",
       "      <th>pred</th>\n",
       "      <td>932.3878</td>\n",
       "      <td>593.2966</td>\n",
       "      <td>268.9409</td>\n",
       "      <td>1218.5131</td>\n",
       "      <td>492.1286</td>\n",
       "      <td>17.2039</td>\n",
       "      <td>2422.2000</td>\n",
       "      <td>604.5508</td>\n",
       "      <td>670.1500</td>\n",
       "      <td>1335.7208</td>\n",
       "      <td>1585.7364</td>\n",
       "      <td>281.8392</td>\n",
       "      <td>78.5967</td>\n",
       "      <td>595.6580</td>\n",
       "      <td>2343.3363</td>\n",
       "      <td>368.6310</td>\n",
       "      <td>2028.1620</td>\n",
       "    </tr>\n",
       "    <tr>\n",
       "      <th>fact</th>\n",
       "      <td>535.0000</td>\n",
       "      <td>140.0000</td>\n",
       "      <td>2140.0000</td>\n",
       "      <td>1474.0000</td>\n",
       "      <td>8100.0000</td>\n",
       "      <td>18970.0000</td>\n",
       "      <td>nan</td>\n",
       "      <td>2670.0000</td>\n",
       "      <td>790.0000</td>\n",
       "      <td>282.0000</td>\n",
       "      <td>265.0000</td>\n",
       "      <td>1350.0000</td>\n",
       "      <td>100.0000</td>\n",
       "      <td>nan</td>\n",
       "      <td>2239.0000</td>\n",
       "      <td>1071.0000</td>\n",
       "      <td>nan</td>\n",
       "    </tr>\n",
       "  </tbody>\n",
       "</table>\n",
       "</div>"
      ],
      "text/plain": [
       "        9911     325       4599      13813     18622      1527      3556   \\\n",
       "pred 932.3878 593.2966  268.9409 1218.5131  492.1286    17.2039 2422.2000   \n",
       "fact 535.0000 140.0000 2140.0000 1474.0000 8100.0000 18970.0000       nan   \n",
       "\n",
       "         13556    16983     23067     15462     9708     15071    21569  \\\n",
       "pred  604.5508 670.1500 1335.7208 1585.7364  281.8392  78.5967 595.6580   \n",
       "fact 2670.0000 790.0000  282.0000  265.0000 1350.0000 100.0000      nan   \n",
       "\n",
       "         20446     9156      22535  \n",
       "pred 2343.3363  368.6310 2028.1620  \n",
       "fact 2239.0000 1071.0000       nan  "
      ]
     },
     "execution_count": 77,
     "metadata": {},
     "output_type": "execute_result"
    }
   ],
   "source": [
    "prediction = pd.DataFrame()\n",
    "prediction['pred'] = randomforest_regressor.predict(X_train)\n",
    "prediction['fact'] = y_train\n",
    "prediction.sample(17).T"
   ]
  },
  {
   "cell_type": "code",
   "execution_count": 107,
   "metadata": {},
   "outputs": [
    {
     "data": {
      "text/html": [
       "<div>\n",
       "<style scoped>\n",
       "    .dataframe tbody tr th:only-of-type {\n",
       "        vertical-align: middle;\n",
       "    }\n",
       "\n",
       "    .dataframe tbody tr th {\n",
       "        vertical-align: top;\n",
       "    }\n",
       "\n",
       "    .dataframe thead th {\n",
       "        text-align: right;\n",
       "    }\n",
       "</style>\n",
       "<table border=\"1\" class=\"dataframe\">\n",
       "  <thead>\n",
       "    <tr style=\"text-align: right;\">\n",
       "      <th></th>\n",
       "      <th>fact</th>\n",
       "      <th>pred</th>\n",
       "    </tr>\n",
       "  </thead>\n",
       "  <tbody>\n",
       "    <tr>\n",
       "      <th>2663</th>\n",
       "      <td>210</td>\n",
       "      <td>247.4930</td>\n",
       "    </tr>\n",
       "    <tr>\n",
       "      <th>12032</th>\n",
       "      <td>40</td>\n",
       "      <td>41.8220</td>\n",
       "    </tr>\n",
       "    <tr>\n",
       "      <th>35109</th>\n",
       "      <td>63</td>\n",
       "      <td>61.1384</td>\n",
       "    </tr>\n",
       "    <tr>\n",
       "      <th>23381</th>\n",
       "      <td>225</td>\n",
       "      <td>221.1789</td>\n",
       "    </tr>\n",
       "    <tr>\n",
       "      <th>19014</th>\n",
       "      <td>1167</td>\n",
       "      <td>1153.1767</td>\n",
       "    </tr>\n",
       "  </tbody>\n",
       "</table>\n",
       "</div>"
      ],
      "text/plain": [
       "       fact      pred\n",
       "2663    210  247.4930\n",
       "12032    40   41.8220\n",
       "35109    63   61.1384\n",
       "23381   225  221.1789\n",
       "19014  1167 1153.1767"
      ]
     },
     "execution_count": 107,
     "metadata": {},
     "output_type": "execute_result"
    }
   ],
   "source": [
    "y_predrandomforest = randomforest_regressor.predict(X_test)\n",
    "\n",
    "testPredrandomforest = pd.DataFrame()\n",
    "testPredrandomforest['fact']=y_test.copy()\n",
    "testPredrandomforest['pred']=y_predrandomforest\n",
    "\n",
    "testPredrandomforest.head()"
   ]
  },
  {
   "cell_type": "code",
   "execution_count": 88,
   "metadata": {},
   "outputs": [
    {
     "data": {
      "text/plain": [
       "<matplotlib.collections.PathCollection at 0x264037cc0c8>"
      ]
     },
     "execution_count": 88,
     "metadata": {},
     "output_type": "execute_result"
    },
    {
     "data": {
      "image/png": "[encoded data removed]",
      "text/plain": [
       "<Figure size 432x288 with 1 Axes>"
      ]
     },
     "metadata": {
      "needs_background": "light"
     },
     "output_type": "display_data"
    }
   ],
   "source": [
    "plt.title(\"Реальные и предсказанные значения RandomForestRegression на train и test\")\n",
    "plt.xlabel(\"Реальные данные\")\n",
    "plt.ylabel(\"Предсказанные значения\")\n",
    "plt.scatter(y_train,randomforest_regressor.predict(X_train), color=['#ad009f'])\n",
    "plt.scatter(y_test,randomforest_regressor.predict(X_test), color=['#C6F500'])"
   ]
  },
  {
   "cell_type": "code",
   "execution_count": 80,
   "metadata": {},
   "outputs": [
    {
     "name": "stdout",
     "output_type": "stream",
     "text": [
      "      Регрессия    R^2\n",
      "4  RandomForest 0.9918\n",
      "3   Grad.Boost. 0.9916\n",
      "2         Ridge 0.9897\n",
      "0        Linear 0.9897\n",
      "1         Lasso 0.9896\n"
     ]
    },
    {
     "data": {
      "text/plain": [
       "<BarContainer object of 5 artists>"
      ]
     },
     "execution_count": 80,
     "metadata": {},
     "output_type": "execute_result"
    },
    {
     "data": {
      "image/png": "[encoded data removed]",
      "text/plain": [
       "<Figure size 432x288 with 1 Axes>"
      ]
     },
     "metadata": {
      "needs_background": "light"
     },
     "output_type": "display_data"
    }
   ],
   "source": [
    "quality=pd.DataFrame()\n",
    "\n",
    "quality['Регрессия']=['Linear', 'Lasso', 'Ridge', 'Grad.Boost.', 'RandomForest']\n",
    "quality['R^2']=[linear_regressor.score(X_test, y_test), lasso_regressor.score(X_test, y_test), ridge_regressor.score(X_test, y_test), boosting_regressor.score(X_test, y_test), randomforest_regressor.score(X_test, y_test)]\n",
    "\n",
    "quality.sort_values('R^2', inplace=True, ascending=False)\n",
    "\n",
    "print(quality)\n",
    "plt.bar(quality['Регрессия'],quality['R^2'], color=['#1faf76','#1fafa0','#1fafaa','#1fafbb','#1fafcc'])"
   ]
  },
  {
   "cell_type": "code",
   "execution_count": 81,
   "metadata": {},
   "outputs": [
    {
     "name": "stdout",
     "output_type": "stream",
     "text": [
      "      Регрессия  Ошибка на train\n",
      "3  RandomForest         149.0864\n",
      "4     GradBoost         166.2091\n",
      "1         Lasso         199.4810\n",
      "2         Ridge         201.9003\n",
      "0        Linear         201.9229\n"
     ]
    },
    {
     "data": {
      "image/png": "[encoded data removed]",
      "text/plain": [
       "<Figure size 432x288 with 1 Axes>"
      ]
     },
     "metadata": {
      "needs_background": "light"
     },
     "output_type": "display_data"
    }
   ],
   "source": [
    "train_err=pd.DataFrame()\n",
    "\n",
    "train_err['Регрессия']=['Linear', 'Lasso', 'Ridge', 'RandomForest', 'GradBoost']\n",
    "train_err['Ошибка на train']=[metrics.mean_absolute_error(y_test, linear_regressor.predict(X_test)), metrics.mean_absolute_error(y_test, lasso_regressor.predict(X_test)), metrics.mean_absolute_error(y_test, ridge_regressor.predict(X_test)), metrics.mean_absolute_error(y_test, randomforest_regressor.predict(X_test)),metrics.mean_absolute_error(y_test, boosting_regressor.predict(X_test))]\n",
    "\n",
    "train_err.sort_values('Ошибка на train', inplace=True)\n",
    "\n",
    "plt.bar(train_err['Регрессия'],train_err['Ошибка на train'], color=['#ffff66','#fff44f','#fbec5d','#ffde5a','#ffdb58'])\n",
    "print(train_err)"
   ]
  },
  {
   "cell_type": "code",
   "execution_count": null,
   "metadata": {},
   "outputs": [],
   "source": []
  },
  {
   "cell_type": "markdown",
   "metadata": {},
   "source": [
    "# Выводы\n",
    "В рамках проведенной работы были собраны данные о продаваемых машинах. У каждого автомобиля были определены следующие параметры:\n",
    "-группа товаров\n",
    "-артикул\n",
    "-город магазина\n",
    "-старая цена\n",
    "-новая цена\n",
    "\n",
    "\n",
    "Собранные данные были приведены к необходимому для анализа виду. \n",
    "\n",
    "Были построены графики, которые помогли понять природу и количество данных и зависимость данных друг от друга.\n",
    "\n",
    "Данные были кластеризованы методом Kmeans. Количество выделенных кластеров - 3.Логика объяснений кластеров\n",
    "\n",
    "К имеющимся данным была применена линейная регрессия для предсказания Новой цены по имеющимся параметрам. Были рассмотренны пять моделей: OLS, Lasso, Ridge, GradientBoosting, RandomForest. Лучше всех показала себя модель RandomForest. Полученные коэффициенты в модели говорят нам о том, что главный фактор, влияющий на новую цену - это его старая цена."
   ]
  },
  {
   "cell_type": "code",
   "execution_count": 10,
   "metadata": {},
   "outputs": [
    {
     "name": "stdout",
     "output_type": "stream",
     "text": [
      "5\n",
      "12\n",
      "13.0\n"
     ]
    }
   ],
   "source": [
    "a=int(input())\n",
    "b=int(input())\n",
    "c=((a**2+ b**2)**0.5)\n",
    "print(c)"
   ]
  },
  {
   "cell_type": "code",
   "execution_count": null,
   "metadata": {},
   "outputs": [],
   "source": []
  },
  {
   "cell_type": "code",
   "execution_count": null,
   "metadata": {},
   "outputs": [],
   "source": []
  }
 ],
 "metadata": {
  "kernelspec": {
   "display_name": "Python 3",
   "language": "python",
   "name": "python3"
  },
  "language_info": {
   "codemirror_mode": {
    "name": "ipython",
    "version": 3
   },
   "file_extension": ".py",
   "mimetype": "text/x-python",
   "name": "python",
   "nbconvert_exporter": "python",
   "pygments_lexer": "ipython3",
   "version": "3.7.6"
  }
 },
 "nbformat": 4,
 "nbformat_minor": 2
}
